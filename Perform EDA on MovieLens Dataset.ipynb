{
 "cells": [
  {
   "cell_type": "markdown",
   "id": "c2026ee4",
   "metadata": {},
   "source": [
    "Data Description: \n",
    "\n",
    "MovieLens data sets were collected by the GroupLens Research Projectat the University of Minnesota.\n",
    "\n",
    "Domain: \n",
    "\n",
    "Entertainment and Internet\n",
    "\n",
    "Context:\n",
    "\n",
    "The GroupLens Research Project is a research group in the Departmentof Computer Science and Engineering at the University of Minnesota.The data is widely used for collaborative filtering and other filtering solutions. However, we will beusing this data to act as a means to demonstrate our skill in using Python to “play”with data.\n",
    "\n",
    "AttributeInformation:\n",
    "\n",
    "* Download the zip file from  data source\n",
    "* Extract the zip file and you will find a folder named   ml-100k\n",
    "* Go through the README file that you will find in the folder from the above step where you will find the information about the attributes in the three datasets\n",
    "\n",
    "Learning Outcomes: \n",
    "\n",
    "* Exploratory Data Analysis\n",
    "* Visualization using Python\n",
    "* Pandas\n",
    "\n",
    "Objective:\n",
    "\n",
    "Demonstrate your skill in python for data analysis.\n",
    "\n",
    "Steps and tasks:\n",
    "\n",
    "* You will need to import 3 files from the folder as data frames  into your Jupyter notebook\n",
    "\n",
    "ou.data \n",
    "ou.item\n",
    "ou.user\n",
    "\n",
    "(You might encounter some trouble importing the data, you are expected to figure out on your own)\n",
    "\n",
    "* Display univariate plots of the attributes: 'rating', 'age', 'release date', 'gender' and 'occupation', from their respective data frames\n",
    "* Visualize how popularity of Genres has changed over the years. From the graph one should be able to see for any given year, movies of which genre got released the most.\n",
    "* Display the top 25 movies by average rating, as a list/series/dataframe.Note:-Consider only the movies which received atleast a 100 ratings\n",
    "* Verify the following statements (no need of doing a statistical test. Compare absolute numbers):oMen watch more drama than womenoMen watch more Romance than womenoWomen watch more Sci-Fi than men\n",
    "\n",
    "References:\n",
    "\n",
    "* https://movielens.org/\n"
   ]
  },
  {
   "cell_type": "markdown",
   "id": "10e42e43",
   "metadata": {},
   "source": [
    "Dataset link - https://grouplens.org/datasets/movielens/100k/ "
   ]
  },
  {
   "cell_type": "code",
   "execution_count": 1,
   "id": "5bd4e358",
   "metadata": {},
   "outputs": [],
   "source": [
    "# Loading required libraries\n",
    "\n",
    "import pandas as pd\n",
    "import numpy as np\n",
    "import matplotlib as mlt\n",
    "import matplotlib.pyplot as plt\n",
    "import seaborn as sns\n",
    "%matplotlib inline"
   ]
  },
  {
   "cell_type": "code",
   "execution_count": 2,
   "id": "70fbf0b2",
   "metadata": {},
   "outputs": [
    {
     "data": {
      "text/html": [
       "<div>\n",
       "<style scoped>\n",
       "    .dataframe tbody tr th:only-of-type {\n",
       "        vertical-align: middle;\n",
       "    }\n",
       "\n",
       "    .dataframe tbody tr th {\n",
       "        vertical-align: top;\n",
       "    }\n",
       "\n",
       "    .dataframe thead th {\n",
       "        text-align: right;\n",
       "    }\n",
       "</style>\n",
       "<table border=\"1\" class=\"dataframe\">\n",
       "  <thead>\n",
       "    <tr style=\"text-align: right;\">\n",
       "      <th></th>\n",
       "      <th>user id</th>\n",
       "      <th>item id</th>\n",
       "      <th>rating</th>\n",
       "      <th>timestamp</th>\n",
       "    </tr>\n",
       "  </thead>\n",
       "  <tbody>\n",
       "    <tr>\n",
       "      <th>0</th>\n",
       "      <td>196</td>\n",
       "      <td>242</td>\n",
       "      <td>3</td>\n",
       "      <td>881250949</td>\n",
       "    </tr>\n",
       "    <tr>\n",
       "      <th>1</th>\n",
       "      <td>186</td>\n",
       "      <td>302</td>\n",
       "      <td>3</td>\n",
       "      <td>891717742</td>\n",
       "    </tr>\n",
       "    <tr>\n",
       "      <th>2</th>\n",
       "      <td>22</td>\n",
       "      <td>377</td>\n",
       "      <td>1</td>\n",
       "      <td>878887116</td>\n",
       "    </tr>\n",
       "    <tr>\n",
       "      <th>3</th>\n",
       "      <td>244</td>\n",
       "      <td>51</td>\n",
       "      <td>2</td>\n",
       "      <td>880606923</td>\n",
       "    </tr>\n",
       "    <tr>\n",
       "      <th>4</th>\n",
       "      <td>166</td>\n",
       "      <td>346</td>\n",
       "      <td>1</td>\n",
       "      <td>886397596</td>\n",
       "    </tr>\n",
       "  </tbody>\n",
       "</table>\n",
       "</div>"
      ],
      "text/plain": [
       "   user id  item id  rating  timestamp\n",
       "0      196      242       3  881250949\n",
       "1      186      302       3  891717742\n",
       "2       22      377       1  878887116\n",
       "3      244       51       2  880606923\n",
       "4      166      346       1  886397596"
      ]
     },
     "execution_count": 2,
     "metadata": {},
     "output_type": "execute_result"
    }
   ],
   "source": [
    "data = pd.read_csv('ml-100k/u.data', sep='\\t', names=['user id','item id','rating','timestamp'])\n",
    "data.head()"
   ]
  },
  {
   "cell_type": "code",
   "execution_count": 3,
   "id": "c644e7c8",
   "metadata": {},
   "outputs": [
    {
     "data": {
      "text/html": [
       "<div>\n",
       "<style scoped>\n",
       "    .dataframe tbody tr th:only-of-type {\n",
       "        vertical-align: middle;\n",
       "    }\n",
       "\n",
       "    .dataframe tbody tr th {\n",
       "        vertical-align: top;\n",
       "    }\n",
       "\n",
       "    .dataframe thead th {\n",
       "        text-align: right;\n",
       "    }\n",
       "</style>\n",
       "<table border=\"1\" class=\"dataframe\">\n",
       "  <thead>\n",
       "    <tr style=\"text-align: right;\">\n",
       "      <th></th>\n",
       "      <th>movie id</th>\n",
       "      <th>movie title</th>\n",
       "      <th>release date</th>\n",
       "      <th>video release date</th>\n",
       "      <th>IMDb URL</th>\n",
       "      <th>unknown</th>\n",
       "      <th>Action</th>\n",
       "      <th>Adventure</th>\n",
       "      <th>Animation</th>\n",
       "      <th>Children's</th>\n",
       "      <th>...</th>\n",
       "      <th>Fantasy</th>\n",
       "      <th>Film-Noir</th>\n",
       "      <th>Horror</th>\n",
       "      <th>Musical</th>\n",
       "      <th>Mystery</th>\n",
       "      <th>Romance</th>\n",
       "      <th>Sci-Fi</th>\n",
       "      <th>Thriller</th>\n",
       "      <th>War</th>\n",
       "      <th>Western</th>\n",
       "    </tr>\n",
       "  </thead>\n",
       "  <tbody>\n",
       "    <tr>\n",
       "      <th>0</th>\n",
       "      <td>1</td>\n",
       "      <td>Toy Story (1995)</td>\n",
       "      <td>01-Jan-1995</td>\n",
       "      <td>NaN</td>\n",
       "      <td>http://us.imdb.com/M/title-exact?Toy%20Story%2...</td>\n",
       "      <td>0</td>\n",
       "      <td>0</td>\n",
       "      <td>0</td>\n",
       "      <td>1</td>\n",
       "      <td>1</td>\n",
       "      <td>...</td>\n",
       "      <td>0</td>\n",
       "      <td>0</td>\n",
       "      <td>0</td>\n",
       "      <td>0</td>\n",
       "      <td>0</td>\n",
       "      <td>0</td>\n",
       "      <td>0</td>\n",
       "      <td>0</td>\n",
       "      <td>0</td>\n",
       "      <td>0</td>\n",
       "    </tr>\n",
       "    <tr>\n",
       "      <th>1</th>\n",
       "      <td>2</td>\n",
       "      <td>GoldenEye (1995)</td>\n",
       "      <td>01-Jan-1995</td>\n",
       "      <td>NaN</td>\n",
       "      <td>http://us.imdb.com/M/title-exact?GoldenEye%20(...</td>\n",
       "      <td>0</td>\n",
       "      <td>1</td>\n",
       "      <td>1</td>\n",
       "      <td>0</td>\n",
       "      <td>0</td>\n",
       "      <td>...</td>\n",
       "      <td>0</td>\n",
       "      <td>0</td>\n",
       "      <td>0</td>\n",
       "      <td>0</td>\n",
       "      <td>0</td>\n",
       "      <td>0</td>\n",
       "      <td>0</td>\n",
       "      <td>1</td>\n",
       "      <td>0</td>\n",
       "      <td>0</td>\n",
       "    </tr>\n",
       "    <tr>\n",
       "      <th>2</th>\n",
       "      <td>3</td>\n",
       "      <td>Four Rooms (1995)</td>\n",
       "      <td>01-Jan-1995</td>\n",
       "      <td>NaN</td>\n",
       "      <td>http://us.imdb.com/M/title-exact?Four%20Rooms%...</td>\n",
       "      <td>0</td>\n",
       "      <td>0</td>\n",
       "      <td>0</td>\n",
       "      <td>0</td>\n",
       "      <td>0</td>\n",
       "      <td>...</td>\n",
       "      <td>0</td>\n",
       "      <td>0</td>\n",
       "      <td>0</td>\n",
       "      <td>0</td>\n",
       "      <td>0</td>\n",
       "      <td>0</td>\n",
       "      <td>0</td>\n",
       "      <td>1</td>\n",
       "      <td>0</td>\n",
       "      <td>0</td>\n",
       "    </tr>\n",
       "    <tr>\n",
       "      <th>3</th>\n",
       "      <td>4</td>\n",
       "      <td>Get Shorty (1995)</td>\n",
       "      <td>01-Jan-1995</td>\n",
       "      <td>NaN</td>\n",
       "      <td>http://us.imdb.com/M/title-exact?Get%20Shorty%...</td>\n",
       "      <td>0</td>\n",
       "      <td>1</td>\n",
       "      <td>0</td>\n",
       "      <td>0</td>\n",
       "      <td>0</td>\n",
       "      <td>...</td>\n",
       "      <td>0</td>\n",
       "      <td>0</td>\n",
       "      <td>0</td>\n",
       "      <td>0</td>\n",
       "      <td>0</td>\n",
       "      <td>0</td>\n",
       "      <td>0</td>\n",
       "      <td>0</td>\n",
       "      <td>0</td>\n",
       "      <td>0</td>\n",
       "    </tr>\n",
       "    <tr>\n",
       "      <th>4</th>\n",
       "      <td>5</td>\n",
       "      <td>Copycat (1995)</td>\n",
       "      <td>01-Jan-1995</td>\n",
       "      <td>NaN</td>\n",
       "      <td>http://us.imdb.com/M/title-exact?Copycat%20(1995)</td>\n",
       "      <td>0</td>\n",
       "      <td>0</td>\n",
       "      <td>0</td>\n",
       "      <td>0</td>\n",
       "      <td>0</td>\n",
       "      <td>...</td>\n",
       "      <td>0</td>\n",
       "      <td>0</td>\n",
       "      <td>0</td>\n",
       "      <td>0</td>\n",
       "      <td>0</td>\n",
       "      <td>0</td>\n",
       "      <td>0</td>\n",
       "      <td>1</td>\n",
       "      <td>0</td>\n",
       "      <td>0</td>\n",
       "    </tr>\n",
       "  </tbody>\n",
       "</table>\n",
       "<p>5 rows × 24 columns</p>\n",
       "</div>"
      ],
      "text/plain": [
       "   movie id        movie title release date  video release date  \\\n",
       "0         1   Toy Story (1995)  01-Jan-1995                 NaN   \n",
       "1         2   GoldenEye (1995)  01-Jan-1995                 NaN   \n",
       "2         3  Four Rooms (1995)  01-Jan-1995                 NaN   \n",
       "3         4  Get Shorty (1995)  01-Jan-1995                 NaN   \n",
       "4         5     Copycat (1995)  01-Jan-1995                 NaN   \n",
       "\n",
       "                                            IMDb URL  unknown  Action  \\\n",
       "0  http://us.imdb.com/M/title-exact?Toy%20Story%2...        0       0   \n",
       "1  http://us.imdb.com/M/title-exact?GoldenEye%20(...        0       1   \n",
       "2  http://us.imdb.com/M/title-exact?Four%20Rooms%...        0       0   \n",
       "3  http://us.imdb.com/M/title-exact?Get%20Shorty%...        0       1   \n",
       "4  http://us.imdb.com/M/title-exact?Copycat%20(1995)        0       0   \n",
       "\n",
       "   Adventure  Animation  Children's  ...  Fantasy  Film-Noir  Horror  Musical  \\\n",
       "0          0          1           1  ...        0          0       0        0   \n",
       "1          1          0           0  ...        0          0       0        0   \n",
       "2          0          0           0  ...        0          0       0        0   \n",
       "3          0          0           0  ...        0          0       0        0   \n",
       "4          0          0           0  ...        0          0       0        0   \n",
       "\n",
       "   Mystery  Romance  Sci-Fi  Thriller  War  Western  \n",
       "0        0        0       0         0    0        0  \n",
       "1        0        0       0         1    0        0  \n",
       "2        0        0       0         1    0        0  \n",
       "3        0        0       0         0    0        0  \n",
       "4        0        0       0         1    0        0  \n",
       "\n",
       "[5 rows x 24 columns]"
      ]
     },
     "execution_count": 3,
     "metadata": {},
     "output_type": "execute_result"
    }
   ],
   "source": [
    "item = pd.read_csv('ml-100k/u.item', sep='|',encoding='latin-1',names=['movie id','movie title','release date','video release date','IMDb URL','unknown','Action','Adventure','Animation',\"Children's\",'Comedy','Crime','Documentary','Drama','Fantasy','Film-Noir','Horror','Musical','Mystery','Romance','Sci-Fi','Thriller','War','Western'])\n",
    "item.head()"
   ]
  },
  {
   "cell_type": "code",
   "execution_count": 4,
   "id": "d11d07e0",
   "metadata": {},
   "outputs": [
    {
     "data": {
      "text/html": [
       "<div>\n",
       "<style scoped>\n",
       "    .dataframe tbody tr th:only-of-type {\n",
       "        vertical-align: middle;\n",
       "    }\n",
       "\n",
       "    .dataframe tbody tr th {\n",
       "        vertical-align: top;\n",
       "    }\n",
       "\n",
       "    .dataframe thead th {\n",
       "        text-align: right;\n",
       "    }\n",
       "</style>\n",
       "<table border=\"1\" class=\"dataframe\">\n",
       "  <thead>\n",
       "    <tr style=\"text-align: right;\">\n",
       "      <th></th>\n",
       "      <th>user id</th>\n",
       "      <th>age</th>\n",
       "      <th>gender</th>\n",
       "      <th>occupation</th>\n",
       "      <th>zip code</th>\n",
       "    </tr>\n",
       "  </thead>\n",
       "  <tbody>\n",
       "    <tr>\n",
       "      <th>0</th>\n",
       "      <td>1</td>\n",
       "      <td>24</td>\n",
       "      <td>M</td>\n",
       "      <td>technician</td>\n",
       "      <td>85711</td>\n",
       "    </tr>\n",
       "    <tr>\n",
       "      <th>1</th>\n",
       "      <td>2</td>\n",
       "      <td>53</td>\n",
       "      <td>F</td>\n",
       "      <td>other</td>\n",
       "      <td>94043</td>\n",
       "    </tr>\n",
       "    <tr>\n",
       "      <th>2</th>\n",
       "      <td>3</td>\n",
       "      <td>23</td>\n",
       "      <td>M</td>\n",
       "      <td>writer</td>\n",
       "      <td>32067</td>\n",
       "    </tr>\n",
       "    <tr>\n",
       "      <th>3</th>\n",
       "      <td>4</td>\n",
       "      <td>24</td>\n",
       "      <td>M</td>\n",
       "      <td>technician</td>\n",
       "      <td>43537</td>\n",
       "    </tr>\n",
       "    <tr>\n",
       "      <th>4</th>\n",
       "      <td>5</td>\n",
       "      <td>33</td>\n",
       "      <td>F</td>\n",
       "      <td>other</td>\n",
       "      <td>15213</td>\n",
       "    </tr>\n",
       "  </tbody>\n",
       "</table>\n",
       "</div>"
      ],
      "text/plain": [
       "   user id  age gender  occupation zip code\n",
       "0        1   24      M  technician    85711\n",
       "1        2   53      F       other    94043\n",
       "2        3   23      M      writer    32067\n",
       "3        4   24      M  technician    43537\n",
       "4        5   33      F       other    15213"
      ]
     },
     "execution_count": 4,
     "metadata": {},
     "output_type": "execute_result"
    }
   ],
   "source": [
    "user = pd.read_table('ml-100k/u.user',sep='|',names = ['user id','age','gender','occupation','zip code'])\n",
    "user.head()"
   ]
  },
  {
   "cell_type": "code",
   "execution_count": 5,
   "id": "c7a273fb",
   "metadata": {},
   "outputs": [],
   "source": [
    "# data.to_csv('data.csv',header=True,index=False)\n",
    "# data.to_csv('item.csv',header=True,index=False)\n",
    "# data.to_csv('user.csv',header=True,index=False)"
   ]
  },
  {
   "cell_type": "markdown",
   "id": "72f5b1ef",
   "metadata": {},
   "source": [
    "* Display univariate plots of the attributes: 'rating', 'age', 'release date', 'gender' and 'occupation', from their respective data frames"
   ]
  },
  {
   "cell_type": "markdown",
   "id": "247c21c3",
   "metadata": {},
   "source": [
    "#### UNIVARIATE PLOTS"
   ]
  },
  {
   "cell_type": "markdown",
   "id": "e6ef7648",
   "metadata": {},
   "source": [
    "#### RATING"
   ]
  },
  {
   "cell_type": "code",
   "execution_count": 6,
   "id": "8257aa20",
   "metadata": {},
   "outputs": [
    {
     "data": {
      "image/png": "[encoded data removed]",
      "text/plain": [
       "<Figure size 432x288 with 1 Axes>"
      ]
     },
     "metadata": {},
     "output_type": "display_data"
    },
    {
     "data": {
      "text/plain": [
       "{4: 34174, 3: 27145, 5: 21201, 2: 11370, 1: 6110}"
      ]
     },
     "execution_count": 6,
     "metadata": {},
     "output_type": "execute_result"
    }
   ],
   "source": [
    "plt.pie(data['rating'].value_counts(),labels = data['rating'].value_counts().index,autopct = '%.2f')\n",
    "plt.title('Pie Chart On Ratings Provided by users')\n",
    "plt.show()\n",
    "\n",
    "dict(zip(data['rating'].value_counts().index.tolist() , data['rating'].value_counts().values.tolist()))"
   ]
  },
  {
   "cell_type": "code",
   "execution_count": 7,
   "id": "2c993e77",
   "metadata": {},
   "outputs": [
    {
     "data": {
      "image/png": "[encoded data removed]",
      "text/plain": [
       "<Figure size 432x288 with 1 Axes>"
      ]
     },
     "metadata": {
      "needs_background": "light"
     },
     "output_type": "display_data"
    }
   ],
   "source": [
    "sns.barplot(x = data['rating'].value_counts().index, y = data['rating'].value_counts().values)\n",
    "plt.title('Ratings provided by Users')\n",
    "plt.xlabel('Stars')\n",
    "plt.ylabel('Count')\n",
    "plt.show()"
   ]
  },
  {
   "cell_type": "code",
   "execution_count": 8,
   "id": "e92452ca",
   "metadata": {},
   "outputs": [
    {
     "data": {
      "text/plain": [
       "user id      0\n",
       "item id      0\n",
       "rating       0\n",
       "timestamp    0\n",
       "dtype: int64"
      ]
     },
     "execution_count": 8,
     "metadata": {},
     "output_type": "execute_result"
    }
   ],
   "source": [
    "data.isnull().sum()"
   ]
  },
  {
   "cell_type": "markdown",
   "id": "0cfdf4bd",
   "metadata": {},
   "source": [
    "OBSERVATIONS FOR DATA.RATING\n",
    "\n",
    "* 34.17% of movies are rated 4\n",
    "* 27.15% of movies are rated 3\n",
    "* 21.20% of movies are rated 5\n",
    "* 11.37% of movies are rated 2\n",
    "* 6.11% of movies are rated 1\n",
    "* Most of the people give 4 ratings to movies comparatively\n",
    "* There are no null values\n",
    "* There are 5 unique values and they are 1,2,3,4,5\n"
   ]
  },
  {
   "cell_type": "markdown",
   "id": "099aeaf2",
   "metadata": {},
   "source": [
    "#### AGE"
   ]
  },
  {
   "cell_type": "code",
   "execution_count": 9,
   "id": "a4921bde",
   "metadata": {},
   "outputs": [
    {
     "data": {
      "text/plain": [
       "count    943.000000\n",
       "mean      34.051962\n",
       "std       12.192740\n",
       "min        7.000000\n",
       "25%       25.000000\n",
       "50%       31.000000\n",
       "75%       43.000000\n",
       "max       73.000000\n",
       "Name: age, dtype: float64"
      ]
     },
     "execution_count": 9,
     "metadata": {},
     "output_type": "execute_result"
    }
   ],
   "source": [
    "user['age'].describe()"
   ]
  },
  {
   "cell_type": "code",
   "execution_count": 10,
   "id": "34e3442e",
   "metadata": {},
   "outputs": [
    {
     "data": {
      "text/plain": [
       "<AxesSubplot:xlabel='age', ylabel='Density'>"
      ]
     },
     "execution_count": 10,
     "metadata": {},
     "output_type": "execute_result"
    },
    {
     "data": {
      "image/png": "[encoded data removed]",
      "text/plain": [
       "<Figure size 432x288 with 1 Axes>"
      ]
     },
     "metadata": {
      "needs_background": "light"
     },
     "output_type": "display_data"
    }
   ],
   "source": [
    "sns.kdeplot(user['age'])"
   ]
  },
  {
   "cell_type": "code",
   "execution_count": 11,
   "id": "8f1d3c6f",
   "metadata": {},
   "outputs": [
    {
     "data": {
      "text/plain": [
       "<AxesSubplot:xlabel='age', ylabel='Count'>"
      ]
     },
     "execution_count": 11,
     "metadata": {},
     "output_type": "execute_result"
    },
    {
     "data": {
      "image/png": "[encoded data removed]",
      "text/plain": [
       "<Figure size 432x288 with 1 Axes>"
      ]
     },
     "metadata": {
      "needs_background": "light"
     },
     "output_type": "display_data"
    }
   ],
   "source": [
    "sns.histplot(data=user,x ='age')"
   ]
  },
  {
   "cell_type": "code",
   "execution_count": 12,
   "id": "d7a2c63d",
   "metadata": {},
   "outputs": [
    {
     "data": {
      "text/plain": [
       "user id       0\n",
       "age           0\n",
       "gender        0\n",
       "occupation    0\n",
       "zip code      0\n",
       "dtype: int64"
      ]
     },
     "execution_count": 12,
     "metadata": {},
     "output_type": "execute_result"
    }
   ],
   "source": [
    "user.isnull().sum()"
   ]
  },
  {
   "cell_type": "code",
   "execution_count": 13,
   "id": "333e9186",
   "metadata": {},
   "outputs": [
    {
     "name": "stdout",
     "output_type": "stream",
     "text": [
      "<class 'pandas.core.frame.DataFrame'>\n",
      "RangeIndex: 943 entries, 0 to 942\n",
      "Data columns (total 5 columns):\n",
      " #   Column      Non-Null Count  Dtype \n",
      "---  ------      --------------  ----- \n",
      " 0   user id     943 non-null    int64 \n",
      " 1   age         943 non-null    int64 \n",
      " 2   gender      943 non-null    object\n",
      " 3   occupation  943 non-null    object\n",
      " 4   zip code    943 non-null    object\n",
      "dtypes: int64(2), object(3)\n",
      "memory usage: 37.0+ KB\n"
     ]
    }
   ],
   "source": [
    "user.info()"
   ]
  },
  {
   "cell_type": "code",
   "execution_count": 14,
   "id": "648e99ff",
   "metadata": {},
   "outputs": [
    {
     "data": {
      "text/plain": [
       "(array([  8., 101., 197., 221., 123., 115., 111.,  36.,  23.,   8.]),\n",
       " array([ 7. , 13.6, 20.2, 26.8, 33.4, 40. , 46.6, 53.2, 59.8, 66.4, 73. ]),\n",
       " <BarContainer object of 10 artists>)"
      ]
     },
     "execution_count": 14,
     "metadata": {},
     "output_type": "execute_result"
    },
    {
     "data": {
      "image/png": "[encoded data removed]",
      "text/plain": [
       "<Figure size 432x288 with 1 Axes>"
      ]
     },
     "metadata": {
      "needs_background": "light"
     },
     "output_type": "display_data"
    }
   ],
   "source": [
    "plt.hist(user.age)"
   ]
  },
  {
   "cell_type": "code",
   "execution_count": 15,
   "id": "3a2ce674",
   "metadata": {},
   "outputs": [],
   "source": [
    "age_rating_dict = dict(zip(user.age.value_counts().index,user.age.value_counts().values))"
   ]
  },
  {
   "cell_type": "code",
   "execution_count": 16,
   "id": "91d4d8fc",
   "metadata": {},
   "outputs": [
    {
     "name": "stdout",
     "output_type": "stream",
     "text": [
      "Age - 30: movies count- 39\n",
      "Age - 25: movies count- 38\n",
      "Age - 22: movies count- 37\n",
      "Age - 28: movies count- 36\n",
      "Age - 27: movies count- 35\n",
      "Age - 26: movies count- 34\n",
      "Age - 24: movies count- 33\n",
      "Age - 29: movies count- 32\n",
      "Age - 20: movies count- 32\n",
      "Age - 23: movies count- 28\n",
      "Age - 32: movies count- 28\n",
      "Age - 35: movies count- 27\n",
      "Age - 21: movies count- 27\n",
      "Age - 33: movies count- 26\n",
      "Age - 31: movies count- 25\n",
      "Age - 19: movies count- 23\n",
      "Age - 44: movies count- 23\n",
      "Age - 39: movies count- 22\n",
      "Age - 40: movies count- 21\n",
      "Age - 36: movies count- 21\n",
      "Age - 42: movies count- 21\n",
      "Age - 48: movies count- 20\n",
      "Age - 51: movies count- 20\n",
      "Age - 50: movies count- 20\n",
      "Age - 49: movies count- 19\n",
      "Age - 37: movies count- 19\n",
      "Age - 18: movies count- 18\n",
      "Age - 38: movies count- 17\n",
      "Age - 34: movies count- 17\n",
      "Age - 45: movies count- 15\n",
      "Age - 17: movies count- 14\n",
      "Age - 47: movies count- 14\n",
      "Age - 43: movies count- 13\n",
      "Age - 53: movies count- 12\n",
      "Age - 46: movies count- 12\n",
      "Age - 55: movies count- 11\n",
      "Age - 41: movies count- 10\n"
     ]
    }
   ],
   "source": [
    "for k,v in age_rating_dict.items():\n",
    "    if v >= 10:\n",
    "        print(f'Age - {k}: movies count- {v}')\n"
   ]
  },
  {
   "cell_type": "markdown",
   "id": "9d9a60c8",
   "metadata": {},
   "source": [
    "OBSERVATIONS FOR USER.AGE\n",
    "\n",
    "* There are no null values.\n",
    "* Age is quantitative.\n",
    "* Age is right skewed.\n",
    "* Most users are between the age of 17 - 55."
   ]
  },
  {
   "cell_type": "markdown",
   "id": "540a7e97",
   "metadata": {},
   "source": [
    "#### RELEASE DATE"
   ]
  },
  {
   "cell_type": "code",
   "execution_count": 17,
   "id": "957fd635",
   "metadata": {},
   "outputs": [],
   "source": [
    "item['release date'] = pd.to_datetime(item['release date'])\n",
    "# CONVERTING VARIABLE TO DATETIME FORMAT"
   ]
  },
  {
   "cell_type": "code",
   "execution_count": 18,
   "id": "a889f68a",
   "metadata": {},
   "outputs": [
    {
     "name": "stdout",
     "output_type": "stream",
     "text": [
      "<class 'pandas.core.series.Series'>\n",
      "RangeIndex: 1682 entries, 0 to 1681\n",
      "Series name: release date\n",
      "Non-Null Count  Dtype         \n",
      "--------------  -----         \n",
      "1681 non-null   datetime64[ns]\n",
      "dtypes: datetime64[ns](1)\n",
      "memory usage: 13.3 KB\n"
     ]
    }
   ],
   "source": [
    "item['release date'].info()"
   ]
  },
  {
   "cell_type": "code",
   "execution_count": 19,
   "id": "d037d35b",
   "metadata": {},
   "outputs": [],
   "source": [
    "item['year'] = pd.DatetimeIndex(item['release date']).year"
   ]
  },
  {
   "cell_type": "code",
   "execution_count": 20,
   "id": "dca9239a",
   "metadata": {},
   "outputs": [
    {
     "data": {
      "text/plain": [
       "1"
      ]
     },
     "execution_count": 20,
     "metadata": {},
     "output_type": "execute_result"
    }
   ],
   "source": [
    "item['year'].isnull().sum()"
   ]
  },
  {
   "cell_type": "code",
   "execution_count": 21,
   "id": "4b509c54",
   "metadata": {},
   "outputs": [
    {
     "data": {
      "text/html": [
       "<div>\n",
       "<style scoped>\n",
       "    .dataframe tbody tr th:only-of-type {\n",
       "        vertical-align: middle;\n",
       "    }\n",
       "\n",
       "    .dataframe tbody tr th {\n",
       "        vertical-align: top;\n",
       "    }\n",
       "\n",
       "    .dataframe thead th {\n",
       "        text-align: right;\n",
       "    }\n",
       "</style>\n",
       "<table border=\"1\" class=\"dataframe\">\n",
       "  <thead>\n",
       "    <tr style=\"text-align: right;\">\n",
       "      <th></th>\n",
       "      <th>movie id</th>\n",
       "      <th>movie title</th>\n",
       "      <th>release date</th>\n",
       "      <th>video release date</th>\n",
       "      <th>IMDb URL</th>\n",
       "      <th>unknown</th>\n",
       "      <th>Action</th>\n",
       "      <th>Adventure</th>\n",
       "      <th>Animation</th>\n",
       "      <th>Children's</th>\n",
       "      <th>...</th>\n",
       "      <th>Film-Noir</th>\n",
       "      <th>Horror</th>\n",
       "      <th>Musical</th>\n",
       "      <th>Mystery</th>\n",
       "      <th>Romance</th>\n",
       "      <th>Sci-Fi</th>\n",
       "      <th>Thriller</th>\n",
       "      <th>War</th>\n",
       "      <th>Western</th>\n",
       "      <th>year</th>\n",
       "    </tr>\n",
       "  </thead>\n",
       "  <tbody>\n",
       "    <tr>\n",
       "      <th>266</th>\n",
       "      <td>267</td>\n",
       "      <td>unknown</td>\n",
       "      <td>NaT</td>\n",
       "      <td>NaN</td>\n",
       "      <td>NaN</td>\n",
       "      <td>1</td>\n",
       "      <td>0</td>\n",
       "      <td>0</td>\n",
       "      <td>0</td>\n",
       "      <td>0</td>\n",
       "      <td>...</td>\n",
       "      <td>0</td>\n",
       "      <td>0</td>\n",
       "      <td>0</td>\n",
       "      <td>0</td>\n",
       "      <td>0</td>\n",
       "      <td>0</td>\n",
       "      <td>0</td>\n",
       "      <td>0</td>\n",
       "      <td>0</td>\n",
       "      <td>NaN</td>\n",
       "    </tr>\n",
       "  </tbody>\n",
       "</table>\n",
       "<p>1 rows × 25 columns</p>\n",
       "</div>"
      ],
      "text/plain": [
       "     movie id movie title release date  video release date IMDb URL  unknown  \\\n",
       "266       267     unknown          NaT                 NaN      NaN        1   \n",
       "\n",
       "     Action  Adventure  Animation  Children's  ...  Film-Noir  Horror  \\\n",
       "266       0          0          0           0  ...          0       0   \n",
       "\n",
       "     Musical  Mystery  Romance  Sci-Fi  Thriller  War  Western  year  \n",
       "266        0        0        0       0         0    0        0   NaN  \n",
       "\n",
       "[1 rows x 25 columns]"
      ]
     },
     "execution_count": 21,
     "metadata": {},
     "output_type": "execute_result"
    }
   ],
   "source": [
    "item[item['year'].isnull()]"
   ]
  },
  {
   "cell_type": "code",
   "execution_count": 22,
   "id": "7e1d6a55",
   "metadata": {},
   "outputs": [],
   "source": [
    "item.drop(266,inplace=True)"
   ]
  },
  {
   "cell_type": "code",
   "execution_count": 23,
   "id": "371500c5",
   "metadata": {},
   "outputs": [
    {
     "data": {
      "text/plain": [
       "0"
      ]
     },
     "execution_count": 23,
     "metadata": {},
     "output_type": "execute_result"
    }
   ],
   "source": [
    "item['year'].isnull().sum()"
   ]
  },
  {
   "cell_type": "code",
   "execution_count": 24,
   "id": "de33df30",
   "metadata": {},
   "outputs": [
    {
     "data": {
      "image/png": "[encoded data removed]",
      "text/plain": [
       "<Figure size 1080x576 with 1 Axes>"
      ]
     },
     "metadata": {
      "needs_background": "light"
     },
     "output_type": "display_data"
    }
   ],
   "source": [
    "plt.figure(figsize=(15,8))\n",
    "item['year'].value_counts().plot(kind='bar')\n",
    "plt.show()"
   ]
  },
  {
   "cell_type": "markdown",
   "id": "71d40717",
   "metadata": {},
   "source": [
    "OBSERVATIONS FOR ITEM.Release date\n",
    "\n",
    "* There is 1 null values(we removed the row as there was no information in it).\n",
    "* Year is quantitative.\n",
    "* Year is left skewed.\n",
    "* Most of the movies are released in 1996(350+), 1997 (250+), 1995, 1994 (200+)"
   ]
  },
  {
   "cell_type": "code",
   "execution_count": 25,
   "id": "e87e7616",
   "metadata": {},
   "outputs": [
    {
     "data": {
      "text/plain": [
       "<AxesSubplot:xlabel='year', ylabel='Density'>"
      ]
     },
     "execution_count": 25,
     "metadata": {},
     "output_type": "execute_result"
    },
    {
     "data": {
      "image/png": "[encoded data removed]",
      "text/plain": [
       "<Figure size 432x288 with 1 Axes>"
      ]
     },
     "metadata": {
      "needs_background": "light"
     },
     "output_type": "display_data"
    }
   ],
   "source": [
    "sns.kdeplot(item['year'])"
   ]
  },
  {
   "cell_type": "markdown",
   "id": "a91be3fd",
   "metadata": {},
   "source": [
    "#### VIDEO RELEASE DATE"
   ]
  },
  {
   "cell_type": "code",
   "execution_count": 26,
   "id": "b79a2f2c",
   "metadata": {},
   "outputs": [
    {
     "data": {
      "text/plain": [
       "1681"
      ]
     },
     "execution_count": 26,
     "metadata": {},
     "output_type": "execute_result"
    }
   ],
   "source": [
    "item['video release date'].isnull().sum()"
   ]
  },
  {
   "cell_type": "code",
   "execution_count": 27,
   "id": "22aa9ae7",
   "metadata": {},
   "outputs": [
    {
     "name": "stdout",
     "output_type": "stream",
     "text": [
      "<class 'pandas.core.series.Series'>\n",
      "Int64Index: 1681 entries, 0 to 1681\n",
      "Series name: video release date\n",
      "Non-Null Count  Dtype  \n",
      "--------------  -----  \n",
      "0 non-null      float64\n",
      "dtypes: float64(1)\n",
      "memory usage: 26.3 KB\n"
     ]
    }
   ],
   "source": [
    "item['video release date'].info()"
   ]
  },
  {
   "cell_type": "code",
   "execution_count": 28,
   "id": "9cad1655",
   "metadata": {},
   "outputs": [],
   "source": [
    "item.drop('video release date',axis = 1, inplace = True)"
   ]
  },
  {
   "cell_type": "markdown",
   "id": "743a991c",
   "metadata": {},
   "source": [
    "OBSERVATIONS FOR ITEM.video release date\n",
    "\n",
    "* There is no non null values(we removed the column as there was no information in it)."
   ]
  },
  {
   "cell_type": "markdown",
   "id": "c676446b",
   "metadata": {},
   "source": [
    "#### GENDER"
   ]
  },
  {
   "cell_type": "code",
   "execution_count": 29,
   "id": "daddccf0",
   "metadata": {},
   "outputs": [
    {
     "data": {
      "text/plain": [
       "M    670\n",
       "F    273\n",
       "Name: gender, dtype: int64"
      ]
     },
     "execution_count": 29,
     "metadata": {},
     "output_type": "execute_result"
    }
   ],
   "source": [
    "user.gender.value_counts()"
   ]
  },
  {
   "cell_type": "code",
   "execution_count": 30,
   "id": "c00bf250",
   "metadata": {},
   "outputs": [
    {
     "data": {
      "image/png": "[encoded data removed]",
      "text/plain": [
       "<Figure size 432x288 with 1 Axes>"
      ]
     },
     "metadata": {},
     "output_type": "display_data"
    },
    {
     "data": {
      "text/plain": [
       "{'M': 34174, 'F': 27145}"
      ]
     },
     "execution_count": 30,
     "metadata": {},
     "output_type": "execute_result"
    }
   ],
   "source": [
    "plt.pie(user.gender.value_counts(),labels = user.gender.value_counts().index,autopct = '%.2f')\n",
    "plt.title('Pie Chart On Genders of Users')\n",
    "plt.show()\n",
    "\n",
    "dict(zip(user.gender.value_counts().index.tolist() , data['rating'].value_counts().values.tolist()))"
   ]
  },
  {
   "cell_type": "code",
   "execution_count": 31,
   "id": "acd6829a",
   "metadata": {},
   "outputs": [
    {
     "name": "stdout",
     "output_type": "stream",
     "text": [
      "<class 'pandas.core.series.Series'>\n",
      "RangeIndex: 943 entries, 0 to 942\n",
      "Series name: gender\n",
      "Non-Null Count  Dtype \n",
      "--------------  ----- \n",
      "943 non-null    object\n",
      "dtypes: object(1)\n",
      "memory usage: 7.5+ KB\n"
     ]
    }
   ],
   "source": [
    "user.gender.info()"
   ]
  },
  {
   "cell_type": "markdown",
   "id": "e0c9a492",
   "metadata": {},
   "source": [
    "OBSERVATIONS FOR Genders\n",
    "\n",
    "* There is no null values.\n",
    "* Gender is categorical having the unique values as M representing Male and F representing Female.\n",
    "* The ratio of Males are higher than the Female. "
   ]
  },
  {
   "cell_type": "markdown",
   "id": "6e27d982",
   "metadata": {},
   "source": [
    "#### OCCUPATION"
   ]
  },
  {
   "cell_type": "code",
   "execution_count": 32,
   "id": "e4bf509c",
   "metadata": {},
   "outputs": [
    {
     "data": {
      "text/plain": [
       "student          196\n",
       "other            105\n",
       "educator          95\n",
       "administrator     79\n",
       "engineer          67\n",
       "programmer        66\n",
       "librarian         51\n",
       "writer            45\n",
       "executive         32\n",
       "scientist         31\n",
       "artist            28\n",
       "technician        27\n",
       "marketing         26\n",
       "entertainment     18\n",
       "healthcare        16\n",
       "retired           14\n",
       "lawyer            12\n",
       "salesman          12\n",
       "none               9\n",
       "homemaker          7\n",
       "doctor             7\n",
       "Name: occupation, dtype: int64"
      ]
     },
     "execution_count": 32,
     "metadata": {},
     "output_type": "execute_result"
    }
   ],
   "source": [
    "user.occupation.value_counts()"
   ]
  },
  {
   "cell_type": "code",
   "execution_count": 33,
   "id": "3d5311a8",
   "metadata": {},
   "outputs": [
    {
     "data": {
      "text/plain": [
       "21"
      ]
     },
     "execution_count": 33,
     "metadata": {},
     "output_type": "execute_result"
    }
   ],
   "source": [
    "user.occupation.nunique()"
   ]
  },
  {
   "cell_type": "code",
   "execution_count": 34,
   "id": "b4199d3b",
   "metadata": {},
   "outputs": [
    {
     "data": {
      "text/plain": [
       "0"
      ]
     },
     "execution_count": 34,
     "metadata": {},
     "output_type": "execute_result"
    }
   ],
   "source": [
    "user.occupation.isnull().sum()"
   ]
  },
  {
   "cell_type": "code",
   "execution_count": 35,
   "id": "0fef3c63",
   "metadata": {},
   "outputs": [
    {
     "data": {
      "image/png": "[encoded data removed]",
      "text/plain": [
       "<Figure size 1080x576 with 1 Axes>"
      ]
     },
     "metadata": {
      "needs_background": "light"
     },
     "output_type": "display_data"
    }
   ],
   "source": [
    "plt.figure(figsize=(15,8))\n",
    "user.occupation.value_counts().plot(kind='bar')\n",
    "plt.show()"
   ]
  },
  {
   "cell_type": "markdown",
   "id": "ec90ac94",
   "metadata": {},
   "source": [
    "OBSERVATIONS FOR ITEM.YEAR\n",
    "\n",
    "* There are no null values.\n",
    "* Occupation is categorical having 21 unique values.\n",
    "* A lot of users are students having nearly 200."
   ]
  },
  {
   "cell_type": "markdown",
   "id": "cbd13824",
   "metadata": {},
   "source": [
    "* Visualize how popularity of Genres has changed over the years. From the graph one should be able to see for any given year, movies of which genre got released the most."
   ]
  },
  {
   "cell_type": "code",
   "execution_count": 36,
   "id": "8b7e42cc",
   "metadata": {},
   "outputs": [
    {
     "data": {
      "text/html": [
       "<div>\n",
       "<style scoped>\n",
       "    .dataframe tbody tr th:only-of-type {\n",
       "        vertical-align: middle;\n",
       "    }\n",
       "\n",
       "    .dataframe tbody tr th {\n",
       "        vertical-align: top;\n",
       "    }\n",
       "\n",
       "    .dataframe thead th {\n",
       "        text-align: right;\n",
       "    }\n",
       "</style>\n",
       "<table border=\"1\" class=\"dataframe\">\n",
       "  <thead>\n",
       "    <tr style=\"text-align: right;\">\n",
       "      <th></th>\n",
       "      <th>user id</th>\n",
       "      <th>age</th>\n",
       "      <th>gender</th>\n",
       "      <th>occupation</th>\n",
       "      <th>zip code</th>\n",
       "    </tr>\n",
       "  </thead>\n",
       "  <tbody>\n",
       "    <tr>\n",
       "      <th>0</th>\n",
       "      <td>1</td>\n",
       "      <td>24</td>\n",
       "      <td>M</td>\n",
       "      <td>technician</td>\n",
       "      <td>85711</td>\n",
       "    </tr>\n",
       "    <tr>\n",
       "      <th>1</th>\n",
       "      <td>2</td>\n",
       "      <td>53</td>\n",
       "      <td>F</td>\n",
       "      <td>other</td>\n",
       "      <td>94043</td>\n",
       "    </tr>\n",
       "  </tbody>\n",
       "</table>\n",
       "</div>"
      ],
      "text/plain": [
       "   user id  age gender  occupation zip code\n",
       "0        1   24      M  technician    85711\n",
       "1        2   53      F       other    94043"
      ]
     },
     "execution_count": 36,
     "metadata": {},
     "output_type": "execute_result"
    }
   ],
   "source": [
    "user.head(2)"
   ]
  },
  {
   "cell_type": "code",
   "execution_count": 37,
   "id": "95ff5d1f",
   "metadata": {},
   "outputs": [
    {
     "data": {
      "text/html": [
       "<div>\n",
       "<style scoped>\n",
       "    .dataframe tbody tr th:only-of-type {\n",
       "        vertical-align: middle;\n",
       "    }\n",
       "\n",
       "    .dataframe tbody tr th {\n",
       "        vertical-align: top;\n",
       "    }\n",
       "\n",
       "    .dataframe thead th {\n",
       "        text-align: right;\n",
       "    }\n",
       "</style>\n",
       "<table border=\"1\" class=\"dataframe\">\n",
       "  <thead>\n",
       "    <tr style=\"text-align: right;\">\n",
       "      <th></th>\n",
       "      <th>movie id</th>\n",
       "      <th>movie title</th>\n",
       "      <th>release date</th>\n",
       "      <th>IMDb URL</th>\n",
       "      <th>unknown</th>\n",
       "      <th>Action</th>\n",
       "      <th>Adventure</th>\n",
       "      <th>Animation</th>\n",
       "      <th>Children's</th>\n",
       "      <th>Comedy</th>\n",
       "      <th>...</th>\n",
       "      <th>Film-Noir</th>\n",
       "      <th>Horror</th>\n",
       "      <th>Musical</th>\n",
       "      <th>Mystery</th>\n",
       "      <th>Romance</th>\n",
       "      <th>Sci-Fi</th>\n",
       "      <th>Thriller</th>\n",
       "      <th>War</th>\n",
       "      <th>Western</th>\n",
       "      <th>year</th>\n",
       "    </tr>\n",
       "  </thead>\n",
       "  <tbody>\n",
       "    <tr>\n",
       "      <th>0</th>\n",
       "      <td>1</td>\n",
       "      <td>Toy Story (1995)</td>\n",
       "      <td>1995-01-01</td>\n",
       "      <td>http://us.imdb.com/M/title-exact?Toy%20Story%2...</td>\n",
       "      <td>0</td>\n",
       "      <td>0</td>\n",
       "      <td>0</td>\n",
       "      <td>1</td>\n",
       "      <td>1</td>\n",
       "      <td>1</td>\n",
       "      <td>...</td>\n",
       "      <td>0</td>\n",
       "      <td>0</td>\n",
       "      <td>0</td>\n",
       "      <td>0</td>\n",
       "      <td>0</td>\n",
       "      <td>0</td>\n",
       "      <td>0</td>\n",
       "      <td>0</td>\n",
       "      <td>0</td>\n",
       "      <td>1995.0</td>\n",
       "    </tr>\n",
       "    <tr>\n",
       "      <th>1</th>\n",
       "      <td>2</td>\n",
       "      <td>GoldenEye (1995)</td>\n",
       "      <td>1995-01-01</td>\n",
       "      <td>http://us.imdb.com/M/title-exact?GoldenEye%20(...</td>\n",
       "      <td>0</td>\n",
       "      <td>1</td>\n",
       "      <td>1</td>\n",
       "      <td>0</td>\n",
       "      <td>0</td>\n",
       "      <td>0</td>\n",
       "      <td>...</td>\n",
       "      <td>0</td>\n",
       "      <td>0</td>\n",
       "      <td>0</td>\n",
       "      <td>0</td>\n",
       "      <td>0</td>\n",
       "      <td>0</td>\n",
       "      <td>1</td>\n",
       "      <td>0</td>\n",
       "      <td>0</td>\n",
       "      <td>1995.0</td>\n",
       "    </tr>\n",
       "  </tbody>\n",
       "</table>\n",
       "<p>2 rows × 24 columns</p>\n",
       "</div>"
      ],
      "text/plain": [
       "   movie id       movie title release date  \\\n",
       "0         1  Toy Story (1995)   1995-01-01   \n",
       "1         2  GoldenEye (1995)   1995-01-01   \n",
       "\n",
       "                                            IMDb URL  unknown  Action  \\\n",
       "0  http://us.imdb.com/M/title-exact?Toy%20Story%2...        0       0   \n",
       "1  http://us.imdb.com/M/title-exact?GoldenEye%20(...        0       1   \n",
       "\n",
       "   Adventure  Animation  Children's  Comedy  ...  Film-Noir  Horror  Musical  \\\n",
       "0          0          1           1       1  ...          0       0        0   \n",
       "1          1          0           0       0  ...          0       0        0   \n",
       "\n",
       "   Mystery  Romance  Sci-Fi  Thriller  War  Western    year  \n",
       "0        0        0       0         0    0        0  1995.0  \n",
       "1        0        0       0         1    0        0  1995.0  \n",
       "\n",
       "[2 rows x 24 columns]"
      ]
     },
     "execution_count": 37,
     "metadata": {},
     "output_type": "execute_result"
    }
   ],
   "source": [
    "item.head(2)"
   ]
  },
  {
   "cell_type": "code",
   "execution_count": 38,
   "id": "b55399d7",
   "metadata": {},
   "outputs": [
    {
     "data": {
      "text/html": [
       "<div>\n",
       "<style scoped>\n",
       "    .dataframe tbody tr th:only-of-type {\n",
       "        vertical-align: middle;\n",
       "    }\n",
       "\n",
       "    .dataframe tbody tr th {\n",
       "        vertical-align: top;\n",
       "    }\n",
       "\n",
       "    .dataframe thead th {\n",
       "        text-align: right;\n",
       "    }\n",
       "</style>\n",
       "<table border=\"1\" class=\"dataframe\">\n",
       "  <thead>\n",
       "    <tr style=\"text-align: right;\">\n",
       "      <th></th>\n",
       "      <th>user id</th>\n",
       "      <th>item id</th>\n",
       "      <th>rating</th>\n",
       "      <th>timestamp</th>\n",
       "    </tr>\n",
       "  </thead>\n",
       "  <tbody>\n",
       "    <tr>\n",
       "      <th>0</th>\n",
       "      <td>196</td>\n",
       "      <td>242</td>\n",
       "      <td>3</td>\n",
       "      <td>881250949</td>\n",
       "    </tr>\n",
       "    <tr>\n",
       "      <th>1</th>\n",
       "      <td>186</td>\n",
       "      <td>302</td>\n",
       "      <td>3</td>\n",
       "      <td>891717742</td>\n",
       "    </tr>\n",
       "  </tbody>\n",
       "</table>\n",
       "</div>"
      ],
      "text/plain": [
       "   user id  item id  rating  timestamp\n",
       "0      196      242       3  881250949\n",
       "1      186      302       3  891717742"
      ]
     },
     "execution_count": 38,
     "metadata": {},
     "output_type": "execute_result"
    }
   ],
   "source": [
    "data.head(2)"
   ]
  },
  {
   "cell_type": "code",
   "execution_count": 39,
   "id": "9307dced",
   "metadata": {},
   "outputs": [
    {
     "data": {
      "text/plain": [
       "0"
      ]
     },
     "execution_count": 39,
     "metadata": {},
     "output_type": "execute_result"
    }
   ],
   "source": [
    "item.unknown.isnull().sum()"
   ]
  },
  {
   "cell_type": "code",
   "execution_count": 40,
   "id": "58fc85ba",
   "metadata": {},
   "outputs": [],
   "source": [
    "genre = item[['unknown',\n",
    "       'Action', 'Adventure', 'Animation', \"Children's\", 'Comedy', 'Crime',\n",
    "       'Documentary', 'Drama', 'Fantasy', 'Film-Noir', 'Horror', 'Musical',\n",
    "       'Mystery', 'Romance', 'Sci-Fi', 'Thriller', 'War', 'Western']]"
   ]
  },
  {
   "cell_type": "code",
   "execution_count": 41,
   "id": "e3f4e9cd",
   "metadata": {},
   "outputs": [
    {
     "data": {
      "text/plain": [
       "unknown          1\n",
       "Action         251\n",
       "Adventure      135\n",
       "Animation       42\n",
       "Children's     122\n",
       "Comedy         505\n",
       "Crime          109\n",
       "Documentary     50\n",
       "Drama          725\n",
       "Fantasy         22\n",
       "Film-Noir       24\n",
       "Horror          92\n",
       "Musical         56\n",
       "Mystery         61\n",
       "Romance        247\n",
       "Sci-Fi         101\n",
       "Thriller       251\n",
       "War             71\n",
       "Western         27\n",
       "dtype: int64"
      ]
     },
     "execution_count": 41,
     "metadata": {},
     "output_type": "execute_result"
    }
   ],
   "source": [
    "genre_count = genre.sum()\n",
    "genre_count"
   ]
  },
  {
   "cell_type": "code",
   "execution_count": 42,
   "id": "03f8efab",
   "metadata": {},
   "outputs": [
    {
     "data": {
      "text/html": [
       "<div>\n",
       "<style scoped>\n",
       "    .dataframe tbody tr th:only-of-type {\n",
       "        vertical-align: middle;\n",
       "    }\n",
       "\n",
       "    .dataframe tbody tr th {\n",
       "        vertical-align: top;\n",
       "    }\n",
       "\n",
       "    .dataframe thead th {\n",
       "        text-align: right;\n",
       "    }\n",
       "</style>\n",
       "<table border=\"1\" class=\"dataframe\">\n",
       "  <thead>\n",
       "    <tr style=\"text-align: right;\">\n",
       "      <th></th>\n",
       "      <th>movie id</th>\n",
       "      <th>movie title</th>\n",
       "      <th>release date</th>\n",
       "      <th>IMDb URL</th>\n",
       "      <th>unknown</th>\n",
       "      <th>Action</th>\n",
       "      <th>Adventure</th>\n",
       "      <th>Animation</th>\n",
       "      <th>Children's</th>\n",
       "      <th>Comedy</th>\n",
       "      <th>...</th>\n",
       "      <th>Film-Noir</th>\n",
       "      <th>Horror</th>\n",
       "      <th>Musical</th>\n",
       "      <th>Mystery</th>\n",
       "      <th>Romance</th>\n",
       "      <th>Sci-Fi</th>\n",
       "      <th>Thriller</th>\n",
       "      <th>War</th>\n",
       "      <th>Western</th>\n",
       "      <th>year</th>\n",
       "    </tr>\n",
       "  </thead>\n",
       "  <tbody>\n",
       "    <tr>\n",
       "      <th>1372</th>\n",
       "      <td>1373</td>\n",
       "      <td>Good Morning (1971)</td>\n",
       "      <td>1971-02-04</td>\n",
       "      <td>http://us.imdb.com/M/title-exact?Good%20Mornin...</td>\n",
       "      <td>1</td>\n",
       "      <td>0</td>\n",
       "      <td>0</td>\n",
       "      <td>0</td>\n",
       "      <td>0</td>\n",
       "      <td>0</td>\n",
       "      <td>...</td>\n",
       "      <td>0</td>\n",
       "      <td>0</td>\n",
       "      <td>0</td>\n",
       "      <td>0</td>\n",
       "      <td>0</td>\n",
       "      <td>0</td>\n",
       "      <td>0</td>\n",
       "      <td>0</td>\n",
       "      <td>0</td>\n",
       "      <td>1971.0</td>\n",
       "    </tr>\n",
       "  </tbody>\n",
       "</table>\n",
       "<p>1 rows × 24 columns</p>\n",
       "</div>"
      ],
      "text/plain": [
       "      movie id          movie title release date  \\\n",
       "1372      1373  Good Morning (1971)   1971-02-04   \n",
       "\n",
       "                                               IMDb URL  unknown  Action  \\\n",
       "1372  http://us.imdb.com/M/title-exact?Good%20Mornin...        1       0   \n",
       "\n",
       "      Adventure  Animation  Children's  Comedy  ...  Film-Noir  Horror  \\\n",
       "1372          0          0           0       0  ...          0       0   \n",
       "\n",
       "      Musical  Mystery  Romance  Sci-Fi  Thriller  War  Western    year  \n",
       "1372        0        0        0       0         0    0        0  1971.0  \n",
       "\n",
       "[1 rows x 24 columns]"
      ]
     },
     "execution_count": 42,
     "metadata": {},
     "output_type": "execute_result"
    }
   ],
   "source": [
    "item[item['unknown'] == 1]"
   ]
  },
  {
   "cell_type": "code",
   "execution_count": 43,
   "id": "d09b7b12",
   "metadata": {},
   "outputs": [],
   "source": [
    "item.drop(1372,axis = 0,inplace = True)"
   ]
  },
  {
   "cell_type": "code",
   "execution_count": 44,
   "id": "0ed7f68a",
   "metadata": {},
   "outputs": [
    {
     "data": {
      "text/html": [
       "<div>\n",
       "<style scoped>\n",
       "    .dataframe tbody tr th:only-of-type {\n",
       "        vertical-align: middle;\n",
       "    }\n",
       "\n",
       "    .dataframe tbody tr th {\n",
       "        vertical-align: top;\n",
       "    }\n",
       "\n",
       "    .dataframe thead th {\n",
       "        text-align: right;\n",
       "    }\n",
       "</style>\n",
       "<table border=\"1\" class=\"dataframe\">\n",
       "  <thead>\n",
       "    <tr style=\"text-align: right;\">\n",
       "      <th></th>\n",
       "      <th>movie id</th>\n",
       "      <th>movie title</th>\n",
       "      <th>release date</th>\n",
       "      <th>IMDb URL</th>\n",
       "      <th>unknown</th>\n",
       "      <th>Action</th>\n",
       "      <th>Adventure</th>\n",
       "      <th>Animation</th>\n",
       "      <th>Children's</th>\n",
       "      <th>Comedy</th>\n",
       "      <th>...</th>\n",
       "      <th>Film-Noir</th>\n",
       "      <th>Horror</th>\n",
       "      <th>Musical</th>\n",
       "      <th>Mystery</th>\n",
       "      <th>Romance</th>\n",
       "      <th>Sci-Fi</th>\n",
       "      <th>Thriller</th>\n",
       "      <th>War</th>\n",
       "      <th>Western</th>\n",
       "      <th>year</th>\n",
       "    </tr>\n",
       "  </thead>\n",
       "  <tbody>\n",
       "  </tbody>\n",
       "</table>\n",
       "<p>0 rows × 24 columns</p>\n",
       "</div>"
      ],
      "text/plain": [
       "Empty DataFrame\n",
       "Columns: [movie id, movie title, release date, IMDb URL, unknown, Action, Adventure, Animation, Children's, Comedy, Crime, Documentary, Drama, Fantasy, Film-Noir, Horror, Musical, Mystery, Romance, Sci-Fi, Thriller, War, Western, year]\n",
       "Index: []\n",
       "\n",
       "[0 rows x 24 columns]"
      ]
     },
     "execution_count": 44,
     "metadata": {},
     "output_type": "execute_result"
    }
   ],
   "source": [
    "item[item['unknown'] == 1]"
   ]
  },
  {
   "cell_type": "code",
   "execution_count": 45,
   "id": "56f8eb1a",
   "metadata": {},
   "outputs": [],
   "source": [
    "item.drop('unknown',axis = 1,inplace = True) # Dropping unknown column from item"
   ]
  },
  {
   "cell_type": "code",
   "execution_count": 46,
   "id": "cb302e54",
   "metadata": {},
   "outputs": [],
   "source": [
    "genre = item[['Action', 'Adventure', 'Animation', \"Children's\", 'Comedy', 'Crime',\n",
    "       'Documentary', 'Drama', 'Fantasy', 'Film-Noir', 'Horror', 'Musical',\n",
    "       'Mystery', 'Romance', 'Sci-Fi', 'Thriller', 'War', 'Western']]"
   ]
  },
  {
   "cell_type": "code",
   "execution_count": 47,
   "id": "c66ab72a",
   "metadata": {},
   "outputs": [
    {
     "data": {
      "text/plain": [
       "Action         251\n",
       "Adventure      135\n",
       "Animation       42\n",
       "Children's     122\n",
       "Comedy         505\n",
       "Crime          109\n",
       "Documentary     50\n",
       "Drama          725\n",
       "Fantasy         22\n",
       "Film-Noir       24\n",
       "Horror          92\n",
       "Musical         56\n",
       "Mystery         61\n",
       "Romance        247\n",
       "Sci-Fi         101\n",
       "Thriller       251\n",
       "War             71\n",
       "Western         27\n",
       "dtype: int64"
      ]
     },
     "execution_count": 47,
     "metadata": {},
     "output_type": "execute_result"
    }
   ],
   "source": [
    "genre_count = genre.sum()\n",
    "genre_count"
   ]
  },
  {
   "cell_type": "code",
   "execution_count": 48,
   "id": "a0056d44",
   "metadata": {},
   "outputs": [],
   "source": [
    "genre_count_dict = dict(zip(genre_count.index,genre_count.values))"
   ]
  },
  {
   "cell_type": "code",
   "execution_count": 49,
   "id": "0748bc36",
   "metadata": {},
   "outputs": [],
   "source": [
    "# ax = sns.barplot(x='day', y='tip', data=groupedvalues)\n",
    "# ax.bar_label(ax.containers[0])"
   ]
  },
  {
   "cell_type": "code",
   "execution_count": 50,
   "id": "03ac67d5",
   "metadata": {},
   "outputs": [
    {
     "data": {
      "image/png": "[encoded data removed]",
      "text/plain": [
       "<Figure size 1224x504 with 1 Axes>"
      ]
     },
     "metadata": {
      "needs_background": "light"
     },
     "output_type": "display_data"
    }
   ],
   "source": [
    "plt.figure(figsize=(17,7))\n",
    "ax = sns.barplot(y = genre_count.values, x = genre_count.index)\n",
    "ax.bar_label(ax.containers[0])\n",
    "plt.show()"
   ]
  },
  {
   "cell_type": "code",
   "execution_count": 51,
   "id": "e7e09a67",
   "metadata": {},
   "outputs": [
    {
     "data": {
      "text/html": [
       "<div>\n",
       "<style scoped>\n",
       "    .dataframe tbody tr th:only-of-type {\n",
       "        vertical-align: middle;\n",
       "    }\n",
       "\n",
       "    .dataframe tbody tr th {\n",
       "        vertical-align: top;\n",
       "    }\n",
       "\n",
       "    .dataframe thead th {\n",
       "        text-align: right;\n",
       "    }\n",
       "</style>\n",
       "<table border=\"1\" class=\"dataframe\">\n",
       "  <thead>\n",
       "    <tr style=\"text-align: right;\">\n",
       "      <th>year</th>\n",
       "      <th>1922.0</th>\n",
       "      <th>1926.0</th>\n",
       "      <th>1930.0</th>\n",
       "      <th>1931.0</th>\n",
       "      <th>1932.0</th>\n",
       "      <th>1933.0</th>\n",
       "      <th>1934.0</th>\n",
       "      <th>1935.0</th>\n",
       "      <th>1936.0</th>\n",
       "      <th>1937.0</th>\n",
       "      <th>...</th>\n",
       "      <th>1989.0</th>\n",
       "      <th>1990.0</th>\n",
       "      <th>1991.0</th>\n",
       "      <th>1992.0</th>\n",
       "      <th>1993.0</th>\n",
       "      <th>1994.0</th>\n",
       "      <th>1995.0</th>\n",
       "      <th>1996.0</th>\n",
       "      <th>1997.0</th>\n",
       "      <th>1998.0</th>\n",
       "    </tr>\n",
       "  </thead>\n",
       "  <tbody>\n",
       "    <tr>\n",
       "      <th>Action</th>\n",
       "      <td>0</td>\n",
       "      <td>0</td>\n",
       "      <td>0</td>\n",
       "      <td>0</td>\n",
       "      <td>0</td>\n",
       "      <td>0</td>\n",
       "      <td>0</td>\n",
       "      <td>0</td>\n",
       "      <td>0</td>\n",
       "      <td>0</td>\n",
       "      <td>...</td>\n",
       "      <td>6</td>\n",
       "      <td>7</td>\n",
       "      <td>2</td>\n",
       "      <td>8</td>\n",
       "      <td>20</td>\n",
       "      <td>30</td>\n",
       "      <td>40</td>\n",
       "      <td>44</td>\n",
       "      <td>46</td>\n",
       "      <td>12</td>\n",
       "    </tr>\n",
       "    <tr>\n",
       "      <th>Adventure</th>\n",
       "      <td>0</td>\n",
       "      <td>0</td>\n",
       "      <td>0</td>\n",
       "      <td>0</td>\n",
       "      <td>0</td>\n",
       "      <td>0</td>\n",
       "      <td>0</td>\n",
       "      <td>0</td>\n",
       "      <td>0</td>\n",
       "      <td>0</td>\n",
       "      <td>...</td>\n",
       "      <td>4</td>\n",
       "      <td>1</td>\n",
       "      <td>1</td>\n",
       "      <td>1</td>\n",
       "      <td>9</td>\n",
       "      <td>13</td>\n",
       "      <td>22</td>\n",
       "      <td>24</td>\n",
       "      <td>20</td>\n",
       "      <td>3</td>\n",
       "    </tr>\n",
       "    <tr>\n",
       "      <th>Animation</th>\n",
       "      <td>0</td>\n",
       "      <td>0</td>\n",
       "      <td>0</td>\n",
       "      <td>0</td>\n",
       "      <td>0</td>\n",
       "      <td>0</td>\n",
       "      <td>0</td>\n",
       "      <td>0</td>\n",
       "      <td>0</td>\n",
       "      <td>1</td>\n",
       "      <td>...</td>\n",
       "      <td>0</td>\n",
       "      <td>0</td>\n",
       "      <td>1</td>\n",
       "      <td>2</td>\n",
       "      <td>1</td>\n",
       "      <td>4</td>\n",
       "      <td>6</td>\n",
       "      <td>9</td>\n",
       "      <td>3</td>\n",
       "      <td>0</td>\n",
       "    </tr>\n",
       "    <tr>\n",
       "      <th>Children's</th>\n",
       "      <td>0</td>\n",
       "      <td>0</td>\n",
       "      <td>0</td>\n",
       "      <td>0</td>\n",
       "      <td>0</td>\n",
       "      <td>0</td>\n",
       "      <td>0</td>\n",
       "      <td>0</td>\n",
       "      <td>0</td>\n",
       "      <td>1</td>\n",
       "      <td>...</td>\n",
       "      <td>0</td>\n",
       "      <td>1</td>\n",
       "      <td>1</td>\n",
       "      <td>1</td>\n",
       "      <td>6</td>\n",
       "      <td>15</td>\n",
       "      <td>21</td>\n",
       "      <td>21</td>\n",
       "      <td>22</td>\n",
       "      <td>1</td>\n",
       "    </tr>\n",
       "    <tr>\n",
       "      <th>Comedy</th>\n",
       "      <td>0</td>\n",
       "      <td>0</td>\n",
       "      <td>0</td>\n",
       "      <td>0</td>\n",
       "      <td>0</td>\n",
       "      <td>1</td>\n",
       "      <td>2</td>\n",
       "      <td>2</td>\n",
       "      <td>1</td>\n",
       "      <td>2</td>\n",
       "      <td>...</td>\n",
       "      <td>3</td>\n",
       "      <td>6</td>\n",
       "      <td>6</td>\n",
       "      <td>12</td>\n",
       "      <td>39</td>\n",
       "      <td>82</td>\n",
       "      <td>63</td>\n",
       "      <td>108</td>\n",
       "      <td>87</td>\n",
       "      <td>13</td>\n",
       "    </tr>\n",
       "    <tr>\n",
       "      <th>Crime</th>\n",
       "      <td>0</td>\n",
       "      <td>0</td>\n",
       "      <td>0</td>\n",
       "      <td>1</td>\n",
       "      <td>0</td>\n",
       "      <td>0</td>\n",
       "      <td>0</td>\n",
       "      <td>0</td>\n",
       "      <td>0</td>\n",
       "      <td>0</td>\n",
       "      <td>...</td>\n",
       "      <td>1</td>\n",
       "      <td>3</td>\n",
       "      <td>0</td>\n",
       "      <td>5</td>\n",
       "      <td>7</td>\n",
       "      <td>8</td>\n",
       "      <td>11</td>\n",
       "      <td>21</td>\n",
       "      <td>30</td>\n",
       "      <td>7</td>\n",
       "    </tr>\n",
       "    <tr>\n",
       "      <th>Documentary</th>\n",
       "      <td>0</td>\n",
       "      <td>0</td>\n",
       "      <td>0</td>\n",
       "      <td>0</td>\n",
       "      <td>0</td>\n",
       "      <td>0</td>\n",
       "      <td>0</td>\n",
       "      <td>0</td>\n",
       "      <td>0</td>\n",
       "      <td>0</td>\n",
       "      <td>...</td>\n",
       "      <td>0</td>\n",
       "      <td>2</td>\n",
       "      <td>1</td>\n",
       "      <td>0</td>\n",
       "      <td>4</td>\n",
       "      <td>9</td>\n",
       "      <td>5</td>\n",
       "      <td>18</td>\n",
       "      <td>6</td>\n",
       "      <td>3</td>\n",
       "    </tr>\n",
       "    <tr>\n",
       "      <th>Drama</th>\n",
       "      <td>0</td>\n",
       "      <td>1</td>\n",
       "      <td>1</td>\n",
       "      <td>0</td>\n",
       "      <td>0</td>\n",
       "      <td>0</td>\n",
       "      <td>1</td>\n",
       "      <td>0</td>\n",
       "      <td>1</td>\n",
       "      <td>1</td>\n",
       "      <td>...</td>\n",
       "      <td>8</td>\n",
       "      <td>12</td>\n",
       "      <td>11</td>\n",
       "      <td>14</td>\n",
       "      <td>64</td>\n",
       "      <td>97</td>\n",
       "      <td>89</td>\n",
       "      <td>170</td>\n",
       "      <td>113</td>\n",
       "      <td>33</td>\n",
       "    </tr>\n",
       "    <tr>\n",
       "      <th>Fantasy</th>\n",
       "      <td>0</td>\n",
       "      <td>0</td>\n",
       "      <td>0</td>\n",
       "      <td>0</td>\n",
       "      <td>0</td>\n",
       "      <td>0</td>\n",
       "      <td>0</td>\n",
       "      <td>0</td>\n",
       "      <td>0</td>\n",
       "      <td>0</td>\n",
       "      <td>...</td>\n",
       "      <td>0</td>\n",
       "      <td>0</td>\n",
       "      <td>1</td>\n",
       "      <td>0</td>\n",
       "      <td>0</td>\n",
       "      <td>3</td>\n",
       "      <td>3</td>\n",
       "      <td>6</td>\n",
       "      <td>4</td>\n",
       "      <td>1</td>\n",
       "    </tr>\n",
       "    <tr>\n",
       "      <th>Film-Noir</th>\n",
       "      <td>0</td>\n",
       "      <td>0</td>\n",
       "      <td>0</td>\n",
       "      <td>1</td>\n",
       "      <td>0</td>\n",
       "      <td>0</td>\n",
       "      <td>0</td>\n",
       "      <td>0</td>\n",
       "      <td>0</td>\n",
       "      <td>0</td>\n",
       "      <td>...</td>\n",
       "      <td>0</td>\n",
       "      <td>1</td>\n",
       "      <td>0</td>\n",
       "      <td>0</td>\n",
       "      <td>1</td>\n",
       "      <td>0</td>\n",
       "      <td>1</td>\n",
       "      <td>1</td>\n",
       "      <td>2</td>\n",
       "      <td>2</td>\n",
       "    </tr>\n",
       "    <tr>\n",
       "      <th>Horror</th>\n",
       "      <td>1</td>\n",
       "      <td>0</td>\n",
       "      <td>0</td>\n",
       "      <td>0</td>\n",
       "      <td>0</td>\n",
       "      <td>0</td>\n",
       "      <td>0</td>\n",
       "      <td>1</td>\n",
       "      <td>0</td>\n",
       "      <td>0</td>\n",
       "      <td>...</td>\n",
       "      <td>0</td>\n",
       "      <td>1</td>\n",
       "      <td>1</td>\n",
       "      <td>6</td>\n",
       "      <td>5</td>\n",
       "      <td>8</td>\n",
       "      <td>14</td>\n",
       "      <td>11</td>\n",
       "      <td>8</td>\n",
       "      <td>4</td>\n",
       "    </tr>\n",
       "    <tr>\n",
       "      <th>Musical</th>\n",
       "      <td>0</td>\n",
       "      <td>0</td>\n",
       "      <td>0</td>\n",
       "      <td>0</td>\n",
       "      <td>0</td>\n",
       "      <td>0</td>\n",
       "      <td>1</td>\n",
       "      <td>1</td>\n",
       "      <td>0</td>\n",
       "      <td>3</td>\n",
       "      <td>...</td>\n",
       "      <td>0</td>\n",
       "      <td>0</td>\n",
       "      <td>2</td>\n",
       "      <td>1</td>\n",
       "      <td>2</td>\n",
       "      <td>2</td>\n",
       "      <td>3</td>\n",
       "      <td>9</td>\n",
       "      <td>5</td>\n",
       "      <td>1</td>\n",
       "    </tr>\n",
       "    <tr>\n",
       "      <th>Mystery</th>\n",
       "      <td>0</td>\n",
       "      <td>0</td>\n",
       "      <td>0</td>\n",
       "      <td>0</td>\n",
       "      <td>0</td>\n",
       "      <td>0</td>\n",
       "      <td>1</td>\n",
       "      <td>0</td>\n",
       "      <td>0</td>\n",
       "      <td>0</td>\n",
       "      <td>...</td>\n",
       "      <td>0</td>\n",
       "      <td>0</td>\n",
       "      <td>0</td>\n",
       "      <td>1</td>\n",
       "      <td>6</td>\n",
       "      <td>2</td>\n",
       "      <td>5</td>\n",
       "      <td>6</td>\n",
       "      <td>18</td>\n",
       "      <td>3</td>\n",
       "    </tr>\n",
       "    <tr>\n",
       "      <th>Romance</th>\n",
       "      <td>0</td>\n",
       "      <td>0</td>\n",
       "      <td>0</td>\n",
       "      <td>0</td>\n",
       "      <td>1</td>\n",
       "      <td>1</td>\n",
       "      <td>1</td>\n",
       "      <td>1</td>\n",
       "      <td>0</td>\n",
       "      <td>2</td>\n",
       "      <td>...</td>\n",
       "      <td>1</td>\n",
       "      <td>4</td>\n",
       "      <td>0</td>\n",
       "      <td>7</td>\n",
       "      <td>16</td>\n",
       "      <td>35</td>\n",
       "      <td>37</td>\n",
       "      <td>38</td>\n",
       "      <td>51</td>\n",
       "      <td>11</td>\n",
       "    </tr>\n",
       "    <tr>\n",
       "      <th>Sci-Fi</th>\n",
       "      <td>0</td>\n",
       "      <td>0</td>\n",
       "      <td>0</td>\n",
       "      <td>0</td>\n",
       "      <td>0</td>\n",
       "      <td>0</td>\n",
       "      <td>0</td>\n",
       "      <td>0</td>\n",
       "      <td>0</td>\n",
       "      <td>0</td>\n",
       "      <td>...</td>\n",
       "      <td>2</td>\n",
       "      <td>0</td>\n",
       "      <td>4</td>\n",
       "      <td>3</td>\n",
       "      <td>8</td>\n",
       "      <td>7</td>\n",
       "      <td>15</td>\n",
       "      <td>15</td>\n",
       "      <td>13</td>\n",
       "      <td>5</td>\n",
       "    </tr>\n",
       "    <tr>\n",
       "      <th>Thriller</th>\n",
       "      <td>0</td>\n",
       "      <td>0</td>\n",
       "      <td>0</td>\n",
       "      <td>1</td>\n",
       "      <td>0</td>\n",
       "      <td>0</td>\n",
       "      <td>0</td>\n",
       "      <td>1</td>\n",
       "      <td>0</td>\n",
       "      <td>0</td>\n",
       "      <td>...</td>\n",
       "      <td>2</td>\n",
       "      <td>4</td>\n",
       "      <td>3</td>\n",
       "      <td>5</td>\n",
       "      <td>17</td>\n",
       "      <td>25</td>\n",
       "      <td>39</td>\n",
       "      <td>47</td>\n",
       "      <td>54</td>\n",
       "      <td>18</td>\n",
       "    </tr>\n",
       "    <tr>\n",
       "      <th>War</th>\n",
       "      <td>0</td>\n",
       "      <td>0</td>\n",
       "      <td>0</td>\n",
       "      <td>0</td>\n",
       "      <td>1</td>\n",
       "      <td>1</td>\n",
       "      <td>0</td>\n",
       "      <td>0</td>\n",
       "      <td>0</td>\n",
       "      <td>0</td>\n",
       "      <td>...</td>\n",
       "      <td>2</td>\n",
       "      <td>0</td>\n",
       "      <td>1</td>\n",
       "      <td>2</td>\n",
       "      <td>4</td>\n",
       "      <td>7</td>\n",
       "      <td>5</td>\n",
       "      <td>9</td>\n",
       "      <td>14</td>\n",
       "      <td>0</td>\n",
       "    </tr>\n",
       "    <tr>\n",
       "      <th>Western</th>\n",
       "      <td>0</td>\n",
       "      <td>0</td>\n",
       "      <td>0</td>\n",
       "      <td>0</td>\n",
       "      <td>0</td>\n",
       "      <td>0</td>\n",
       "      <td>0</td>\n",
       "      <td>0</td>\n",
       "      <td>0</td>\n",
       "      <td>0</td>\n",
       "      <td>...</td>\n",
       "      <td>0</td>\n",
       "      <td>2</td>\n",
       "      <td>0</td>\n",
       "      <td>1</td>\n",
       "      <td>2</td>\n",
       "      <td>6</td>\n",
       "      <td>2</td>\n",
       "      <td>2</td>\n",
       "      <td>0</td>\n",
       "      <td>0</td>\n",
       "    </tr>\n",
       "  </tbody>\n",
       "</table>\n",
       "<p>18 rows × 71 columns</p>\n",
       "</div>"
      ],
      "text/plain": [
       "year         1922.0  1926.0  1930.0  1931.0  1932.0  1933.0  1934.0  1935.0  \\\n",
       "Action            0       0       0       0       0       0       0       0   \n",
       "Adventure         0       0       0       0       0       0       0       0   \n",
       "Animation         0       0       0       0       0       0       0       0   \n",
       "Children's        0       0       0       0       0       0       0       0   \n",
       "Comedy            0       0       0       0       0       1       2       2   \n",
       "Crime             0       0       0       1       0       0       0       0   \n",
       "Documentary       0       0       0       0       0       0       0       0   \n",
       "Drama             0       1       1       0       0       0       1       0   \n",
       "Fantasy           0       0       0       0       0       0       0       0   \n",
       "Film-Noir         0       0       0       1       0       0       0       0   \n",
       "Horror            1       0       0       0       0       0       0       1   \n",
       "Musical           0       0       0       0       0       0       1       1   \n",
       "Mystery           0       0       0       0       0       0       1       0   \n",
       "Romance           0       0       0       0       1       1       1       1   \n",
       "Sci-Fi            0       0       0       0       0       0       0       0   \n",
       "Thriller          0       0       0       1       0       0       0       1   \n",
       "War               0       0       0       0       1       1       0       0   \n",
       "Western           0       0       0       0       0       0       0       0   \n",
       "\n",
       "year         1936.0  1937.0  ...  1989.0  1990.0  1991.0  1992.0  1993.0  \\\n",
       "Action            0       0  ...       6       7       2       8      20   \n",
       "Adventure         0       0  ...       4       1       1       1       9   \n",
       "Animation         0       1  ...       0       0       1       2       1   \n",
       "Children's        0       1  ...       0       1       1       1       6   \n",
       "Comedy            1       2  ...       3       6       6      12      39   \n",
       "Crime             0       0  ...       1       3       0       5       7   \n",
       "Documentary       0       0  ...       0       2       1       0       4   \n",
       "Drama             1       1  ...       8      12      11      14      64   \n",
       "Fantasy           0       0  ...       0       0       1       0       0   \n",
       "Film-Noir         0       0  ...       0       1       0       0       1   \n",
       "Horror            0       0  ...       0       1       1       6       5   \n",
       "Musical           0       3  ...       0       0       2       1       2   \n",
       "Mystery           0       0  ...       0       0       0       1       6   \n",
       "Romance           0       2  ...       1       4       0       7      16   \n",
       "Sci-Fi            0       0  ...       2       0       4       3       8   \n",
       "Thriller          0       0  ...       2       4       3       5      17   \n",
       "War               0       0  ...       2       0       1       2       4   \n",
       "Western           0       0  ...       0       2       0       1       2   \n",
       "\n",
       "year         1994.0  1995.0  1996.0  1997.0  1998.0  \n",
       "Action           30      40      44      46      12  \n",
       "Adventure        13      22      24      20       3  \n",
       "Animation         4       6       9       3       0  \n",
       "Children's       15      21      21      22       1  \n",
       "Comedy           82      63     108      87      13  \n",
       "Crime             8      11      21      30       7  \n",
       "Documentary       9       5      18       6       3  \n",
       "Drama            97      89     170     113      33  \n",
       "Fantasy           3       3       6       4       1  \n",
       "Film-Noir         0       1       1       2       2  \n",
       "Horror            8      14      11       8       4  \n",
       "Musical           2       3       9       5       1  \n",
       "Mystery           2       5       6      18       3  \n",
       "Romance          35      37      38      51      11  \n",
       "Sci-Fi            7      15      15      13       5  \n",
       "Thriller         25      39      47      54      18  \n",
       "War               7       5       9      14       0  \n",
       "Western           6       2       2       0       0  \n",
       "\n",
       "[18 rows x 71 columns]"
      ]
     },
     "execution_count": 51,
     "metadata": {},
     "output_type": "execute_result"
    }
   ],
   "source": [
    "pd.concat([genre,item.year],axis=1).groupby('year').sum().T"
   ]
  },
  {
   "cell_type": "code",
   "execution_count": 52,
   "id": "147a7032",
   "metadata": {},
   "outputs": [
    {
     "data": {
      "image/png": "[encoded data removed]",
      "text/plain": [
       "<Figure size 1080x576 with 2 Axes>"
      ]
     },
     "metadata": {
      "needs_background": "light"
     },
     "output_type": "display_data"
    }
   ],
   "source": [
    "plt.figure(figsize=(15,8))\n",
    "sns.heatmap(pd.concat([genre,item.year],axis=1).groupby('year').sum(), cmap = 'coolwarm')\n",
    "plt.title('popularity of Genres changes over the years')\n",
    "plt.xlabel('Genres')\n",
    "plt.ylabel('Year')\n",
    "plt.show()"
   ]
  },
  {
   "cell_type": "markdown",
   "id": "1931f6b0",
   "metadata": {},
   "source": [
    "* Display the top 25 movies by average rating, as a list/series/dataframe.Note:-Consider only the movies which received atleast a 100 ratings"
   ]
  },
  {
   "cell_type": "code",
   "execution_count": 53,
   "id": "74fb52dc",
   "metadata": {},
   "outputs": [],
   "source": [
    "data.rename({'item id':'movie id'},inplace=True, axis=1)"
   ]
  },
  {
   "cell_type": "code",
   "execution_count": 54,
   "id": "42cce6b1",
   "metadata": {},
   "outputs": [],
   "source": [
    "#  df = pd.DataFrame({'a': ['a', 'b', 'a', 'a', 'b', 'c', 'd']})\n",
    "#  after = df.groupby('a').size()\n",
    "#  >> after\n",
    "#  a\n",
    "#  a    3\n",
    "#  b    2\n",
    "#  c    1\n",
    "#  d    1\n",
    "#  dtype: int64\n",
    "\n",
    "#  >> after[after > 2]\n",
    "#  a\n",
    "#  a    3\n",
    "#  dtype: int64\n",
    "\n",
    "# https://stackoverflow.com/questions/31303417/python-pandas-dataframe-group-by-based-on-a-condition"
   ]
  },
  {
   "cell_type": "code",
   "execution_count": 55,
   "id": "f27f4a2c",
   "metadata": {},
   "outputs": [
    {
     "data": {
      "text/plain": [
       "movie id\n",
       "1       452\n",
       "2       131\n",
       "4       209\n",
       "7       392\n",
       "8       219\n",
       "       ... \n",
       "926     101\n",
       "928     104\n",
       "1016    137\n",
       "1028    148\n",
       "1047    134\n",
       "Length: 334, dtype: int64"
      ]
     },
     "execution_count": 55,
     "metadata": {},
     "output_type": "execute_result"
    }
   ],
   "source": [
    "results = data.groupby('movie id').size()\n",
    "results[results > 100]"
   ]
  },
  {
   "cell_type": "code",
   "execution_count": 56,
   "id": "5e84480c",
   "metadata": {},
   "outputs": [
    {
     "name": "stdout",
     "output_type": "stream",
     "text": [
      "[1, 2, 4, 7, 8, 9, 11, 12, 13, 14, 15, 22, 23, 24, 25, 28, 29, 31, 38, 42, 47, 48, 50, 53, 54, 55, 56, 58, 62, 64, 65, 66, 67, 68, 69, 70, 71, 72, 73, 77, 79, 81, 82, 83, 86, 87, 88, 89, 91, 92, 93, 94, 95, 96, 97, 98, 99, 100, 109, 111, 116, 117, 118, 121, 122, 123, 124, 125, 127, 129, 132, 133, 134, 135, 136, 137, 143, 144, 147, 148, 150, 151, 153, 154, 156, 157, 159, 161, 162, 164, 168, 169, 170, 172, 173, 174, 175, 176, 177, 178, 179, 180, 181, 182, 183, 184, 185, 186, 187, 188, 190, 191, 192, 193, 194, 195, 196, 197, 198, 199, 200, 202, 203, 204, 205, 208, 209, 210, 211, 213, 214, 215, 216, 217, 218, 219, 222, 223, 225, 226, 227, 228, 229, 230, 231, 232, 233, 234, 235, 237, 238, 239, 240, 241, 242, 243, 245, 246, 248, 249, 250, 252, 255, 257, 258, 259, 260, 264, 265, 268, 269, 270, 271, 272, 273, 274, 275, 276, 281, 282, 283, 284, 285, 286, 288, 289, 291, 292, 293, 294, 298, 300, 301, 302, 303, 304, 307, 310, 313, 315, 316, 317, 318, 319, 321, 322, 323, 324, 325, 326, 327, 328, 331, 332, 333, 340, 343, 346, 347, 357, 358, 367, 378, 380, 382, 385, 393, 402, 403, 404, 405, 408, 410, 411, 418, 419, 421, 423, 427, 428, 431, 432, 433, 435, 443, 447, 449, 451, 455, 462, 470, 471, 472, 473, 474, 475, 476, 478, 479, 480, 482, 483, 484, 485, 496, 498, 501, 504, 508, 509, 510, 511, 514, 515, 520, 521, 523, 526, 527, 528, 531, 546, 550, 554, 559, 566, 568, 582, 588, 591, 596, 597, 603, 628, 631, 651, 654, 655, 657, 659, 660, 663, 678, 679, 684, 685, 690, 692, 699, 705, 708, 709, 732, 735, 739, 742, 746, 747, 748, 750, 751, 756, 762, 763, 815, 845, 866, 879, 895, 926, 928, 1016, 1028, 1047]\n"
     ]
    }
   ],
   "source": [
    "ratings_with_more_than_100 = results[results > 100].index.to_list()\n",
    "print(ratings_with_more_than_100)"
   ]
  },
  {
   "cell_type": "code",
   "execution_count": 57,
   "id": "82ae5bb1",
   "metadata": {},
   "outputs": [
    {
     "data": {
      "text/html": [
       "<div>\n",
       "<style scoped>\n",
       "    .dataframe tbody tr th:only-of-type {\n",
       "        vertical-align: middle;\n",
       "    }\n",
       "\n",
       "    .dataframe tbody tr th {\n",
       "        vertical-align: top;\n",
       "    }\n",
       "\n",
       "    .dataframe thead th {\n",
       "        text-align: right;\n",
       "    }\n",
       "</style>\n",
       "<table border=\"1\" class=\"dataframe\">\n",
       "  <thead>\n",
       "    <tr style=\"text-align: right;\">\n",
       "      <th></th>\n",
       "      <th>user id</th>\n",
       "      <th>rating</th>\n",
       "      <th>timestamp</th>\n",
       "    </tr>\n",
       "    <tr>\n",
       "      <th>movie id</th>\n",
       "      <th></th>\n",
       "      <th></th>\n",
       "      <th></th>\n",
       "    </tr>\n",
       "  </thead>\n",
       "  <tbody>\n",
       "    <tr>\n",
       "      <th>408</th>\n",
       "      <td>443.142857</td>\n",
       "      <td>4.491071</td>\n",
       "      <td>8.823304e+08</td>\n",
       "    </tr>\n",
       "    <tr>\n",
       "      <th>318</th>\n",
       "      <td>469.714765</td>\n",
       "      <td>4.466443</td>\n",
       "      <td>8.834050e+08</td>\n",
       "    </tr>\n",
       "    <tr>\n",
       "      <th>169</th>\n",
       "      <td>454.483051</td>\n",
       "      <td>4.466102</td>\n",
       "      <td>8.828888e+08</td>\n",
       "    </tr>\n",
       "    <tr>\n",
       "      <th>483</th>\n",
       "      <td>471.831276</td>\n",
       "      <td>4.456790</td>\n",
       "      <td>8.834745e+08</td>\n",
       "    </tr>\n",
       "    <tr>\n",
       "      <th>64</th>\n",
       "      <td>441.187279</td>\n",
       "      <td>4.445230</td>\n",
       "      <td>8.826119e+08</td>\n",
       "    </tr>\n",
       "    <tr>\n",
       "      <th>...</th>\n",
       "      <td>...</td>\n",
       "      <td>...</td>\n",
       "      <td>...</td>\n",
       "    </tr>\n",
       "    <tr>\n",
       "      <th>358</th>\n",
       "      <td>496.097902</td>\n",
       "      <td>2.615385</td>\n",
       "      <td>8.836746e+08</td>\n",
       "    </tr>\n",
       "    <tr>\n",
       "      <th>260</th>\n",
       "      <td>462.204724</td>\n",
       "      <td>2.574803</td>\n",
       "      <td>8.842682e+08</td>\n",
       "    </tr>\n",
       "    <tr>\n",
       "      <th>325</th>\n",
       "      <td>443.171875</td>\n",
       "      <td>2.546875</td>\n",
       "      <td>8.831109e+08</td>\n",
       "    </tr>\n",
       "    <tr>\n",
       "      <th>243</th>\n",
       "      <td>463.780303</td>\n",
       "      <td>2.439394</td>\n",
       "      <td>8.839344e+08</td>\n",
       "    </tr>\n",
       "    <tr>\n",
       "      <th>122</th>\n",
       "      <td>473.132075</td>\n",
       "      <td>2.339623</td>\n",
       "      <td>8.826727e+08</td>\n",
       "    </tr>\n",
       "  </tbody>\n",
       "</table>\n",
       "<p>334 rows × 3 columns</p>\n",
       "</div>"
      ],
      "text/plain": [
       "             user id    rating     timestamp\n",
       "movie id                                    \n",
       "408       443.142857  4.491071  8.823304e+08\n",
       "318       469.714765  4.466443  8.834050e+08\n",
       "169       454.483051  4.466102  8.828888e+08\n",
       "483       471.831276  4.456790  8.834745e+08\n",
       "64        441.187279  4.445230  8.826119e+08\n",
       "...              ...       ...           ...\n",
       "358       496.097902  2.615385  8.836746e+08\n",
       "260       462.204724  2.574803  8.842682e+08\n",
       "325       443.171875  2.546875  8.831109e+08\n",
       "243       463.780303  2.439394  8.839344e+08\n",
       "122       473.132075  2.339623  8.826727e+08\n",
       "\n",
       "[334 rows x 3 columns]"
      ]
     },
     "execution_count": 57,
     "metadata": {},
     "output_type": "execute_result"
    }
   ],
   "source": [
    "ratings = data[data['movie id'].isin(ratings_with_more_than_100)].groupby('movie id').mean().sort_values(ascending=False,by = 'rating')\n",
    "ratings"
   ]
  },
  {
   "cell_type": "code",
   "execution_count": 58,
   "id": "2a98e501",
   "metadata": {},
   "outputs": [],
   "source": [
    "ratings['movie id'] = ratings.index"
   ]
  },
  {
   "cell_type": "code",
   "execution_count": 64,
   "id": "2615d65c",
   "metadata": {},
   "outputs": [
    {
     "data": {
      "text/html": [
       "<div>\n",
       "<style scoped>\n",
       "    .dataframe tbody tr th:only-of-type {\n",
       "        vertical-align: middle;\n",
       "    }\n",
       "\n",
       "    .dataframe tbody tr th {\n",
       "        vertical-align: top;\n",
       "    }\n",
       "\n",
       "    .dataframe thead th {\n",
       "        text-align: right;\n",
       "    }\n",
       "</style>\n",
       "<table border=\"1\" class=\"dataframe\">\n",
       "  <thead>\n",
       "    <tr style=\"text-align: right;\">\n",
       "      <th></th>\n",
       "      <th>user id</th>\n",
       "      <th>rating</th>\n",
       "      <th>timestamp</th>\n",
       "      <th>movie id</th>\n",
       "    </tr>\n",
       "    <tr>\n",
       "      <th>movie id</th>\n",
       "      <th></th>\n",
       "      <th></th>\n",
       "      <th></th>\n",
       "      <th></th>\n",
       "    </tr>\n",
       "  </thead>\n",
       "  <tbody>\n",
       "    <tr>\n",
       "      <th>408</th>\n",
       "      <td>443.142857</td>\n",
       "      <td>4.491071</td>\n",
       "      <td>8.823304e+08</td>\n",
       "      <td>408</td>\n",
       "    </tr>\n",
       "    <tr>\n",
       "      <th>318</th>\n",
       "      <td>469.714765</td>\n",
       "      <td>4.466443</td>\n",
       "      <td>8.834050e+08</td>\n",
       "      <td>318</td>\n",
       "    </tr>\n",
       "    <tr>\n",
       "      <th>169</th>\n",
       "      <td>454.483051</td>\n",
       "      <td>4.466102</td>\n",
       "      <td>8.828888e+08</td>\n",
       "      <td>169</td>\n",
       "    </tr>\n",
       "    <tr>\n",
       "      <th>483</th>\n",
       "      <td>471.831276</td>\n",
       "      <td>4.456790</td>\n",
       "      <td>8.834745e+08</td>\n",
       "      <td>483</td>\n",
       "    </tr>\n",
       "    <tr>\n",
       "      <th>64</th>\n",
       "      <td>441.187279</td>\n",
       "      <td>4.445230</td>\n",
       "      <td>8.826119e+08</td>\n",
       "      <td>64</td>\n",
       "    </tr>\n",
       "    <tr>\n",
       "      <th>...</th>\n",
       "      <td>...</td>\n",
       "      <td>...</td>\n",
       "      <td>...</td>\n",
       "      <td>...</td>\n",
       "    </tr>\n",
       "    <tr>\n",
       "      <th>358</th>\n",
       "      <td>496.097902</td>\n",
       "      <td>2.615385</td>\n",
       "      <td>8.836746e+08</td>\n",
       "      <td>358</td>\n",
       "    </tr>\n",
       "    <tr>\n",
       "      <th>260</th>\n",
       "      <td>462.204724</td>\n",
       "      <td>2.574803</td>\n",
       "      <td>8.842682e+08</td>\n",
       "      <td>260</td>\n",
       "    </tr>\n",
       "    <tr>\n",
       "      <th>325</th>\n",
       "      <td>443.171875</td>\n",
       "      <td>2.546875</td>\n",
       "      <td>8.831109e+08</td>\n",
       "      <td>325</td>\n",
       "    </tr>\n",
       "    <tr>\n",
       "      <th>243</th>\n",
       "      <td>463.780303</td>\n",
       "      <td>2.439394</td>\n",
       "      <td>8.839344e+08</td>\n",
       "      <td>243</td>\n",
       "    </tr>\n",
       "    <tr>\n",
       "      <th>122</th>\n",
       "      <td>473.132075</td>\n",
       "      <td>2.339623</td>\n",
       "      <td>8.826727e+08</td>\n",
       "      <td>122</td>\n",
       "    </tr>\n",
       "  </tbody>\n",
       "</table>\n",
       "<p>334 rows × 4 columns</p>\n",
       "</div>"
      ],
      "text/plain": [
       "             user id    rating     timestamp  movie id\n",
       "movie id                                              \n",
       "408       443.142857  4.491071  8.823304e+08       408\n",
       "318       469.714765  4.466443  8.834050e+08       318\n",
       "169       454.483051  4.466102  8.828888e+08       169\n",
       "483       471.831276  4.456790  8.834745e+08       483\n",
       "64        441.187279  4.445230  8.826119e+08        64\n",
       "...              ...       ...           ...       ...\n",
       "358       496.097902  2.615385  8.836746e+08       358\n",
       "260       462.204724  2.574803  8.842682e+08       260\n",
       "325       443.171875  2.546875  8.831109e+08       325\n",
       "243       463.780303  2.439394  8.839344e+08       243\n",
       "122       473.132075  2.339623  8.826727e+08       122\n",
       "\n",
       "[334 rows x 4 columns]"
      ]
     },
     "execution_count": 64,
     "metadata": {},
     "output_type": "execute_result"
    }
   ],
   "source": [
    "ratings"
   ]
  },
  {
   "cell_type": "code",
   "execution_count": 66,
   "id": "bdb7d3af",
   "metadata": {},
   "outputs": [
    {
     "data": {
      "text/html": [
       "<div>\n",
       "<style scoped>\n",
       "    .dataframe tbody tr th:only-of-type {\n",
       "        vertical-align: middle;\n",
       "    }\n",
       "\n",
       "    .dataframe tbody tr th {\n",
       "        vertical-align: top;\n",
       "    }\n",
       "\n",
       "    .dataframe thead th {\n",
       "        text-align: right;\n",
       "    }\n",
       "</style>\n",
       "<table border=\"1\" class=\"dataframe\">\n",
       "  <thead>\n",
       "    <tr style=\"text-align: right;\">\n",
       "      <th></th>\n",
       "      <th>movie id</th>\n",
       "      <th>movie title</th>\n",
       "      <th>rating</th>\n",
       "    </tr>\n",
       "  </thead>\n",
       "  <tbody>\n",
       "    <tr>\n",
       "      <th>0</th>\n",
       "      <td>408</td>\n",
       "      <td>Close Shave, A (1995)</td>\n",
       "      <td>4.491071</td>\n",
       "    </tr>\n",
       "    <tr>\n",
       "      <th>1</th>\n",
       "      <td>318</td>\n",
       "      <td>Schindler's List (1993)</td>\n",
       "      <td>4.466443</td>\n",
       "    </tr>\n",
       "    <tr>\n",
       "      <th>2</th>\n",
       "      <td>169</td>\n",
       "      <td>Wrong Trousers, The (1993)</td>\n",
       "      <td>4.466102</td>\n",
       "    </tr>\n",
       "    <tr>\n",
       "      <th>3</th>\n",
       "      <td>483</td>\n",
       "      <td>Casablanca (1942)</td>\n",
       "      <td>4.456790</td>\n",
       "    </tr>\n",
       "    <tr>\n",
       "      <th>4</th>\n",
       "      <td>64</td>\n",
       "      <td>Shawshank Redemption, The (1994)</td>\n",
       "      <td>4.445230</td>\n",
       "    </tr>\n",
       "    <tr>\n",
       "      <th>5</th>\n",
       "      <td>603</td>\n",
       "      <td>Rear Window (1954)</td>\n",
       "      <td>4.387560</td>\n",
       "    </tr>\n",
       "    <tr>\n",
       "      <th>6</th>\n",
       "      <td>12</td>\n",
       "      <td>Usual Suspects, The (1995)</td>\n",
       "      <td>4.385768</td>\n",
       "    </tr>\n",
       "    <tr>\n",
       "      <th>7</th>\n",
       "      <td>50</td>\n",
       "      <td>Star Wars (1977)</td>\n",
       "      <td>4.358491</td>\n",
       "    </tr>\n",
       "    <tr>\n",
       "      <th>8</th>\n",
       "      <td>178</td>\n",
       "      <td>12 Angry Men (1957)</td>\n",
       "      <td>4.344000</td>\n",
       "    </tr>\n",
       "    <tr>\n",
       "      <th>9</th>\n",
       "      <td>134</td>\n",
       "      <td>Citizen Kane (1941)</td>\n",
       "      <td>4.292929</td>\n",
       "    </tr>\n",
       "    <tr>\n",
       "      <th>10</th>\n",
       "      <td>427</td>\n",
       "      <td>To Kill a Mockingbird (1962)</td>\n",
       "      <td>4.292237</td>\n",
       "    </tr>\n",
       "    <tr>\n",
       "      <th>11</th>\n",
       "      <td>357</td>\n",
       "      <td>One Flew Over the Cuckoo's Nest (1975)</td>\n",
       "      <td>4.291667</td>\n",
       "    </tr>\n",
       "    <tr>\n",
       "      <th>12</th>\n",
       "      <td>98</td>\n",
       "      <td>Silence of the Lambs, The (1991)</td>\n",
       "      <td>4.289744</td>\n",
       "    </tr>\n",
       "    <tr>\n",
       "      <th>13</th>\n",
       "      <td>480</td>\n",
       "      <td>North by Northwest (1959)</td>\n",
       "      <td>4.284916</td>\n",
       "    </tr>\n",
       "    <tr>\n",
       "      <th>14</th>\n",
       "      <td>127</td>\n",
       "      <td>Godfather, The (1972)</td>\n",
       "      <td>4.283293</td>\n",
       "    </tr>\n",
       "    <tr>\n",
       "      <th>15</th>\n",
       "      <td>285</td>\n",
       "      <td>Secrets &amp; Lies (1996)</td>\n",
       "      <td>4.265432</td>\n",
       "    </tr>\n",
       "    <tr>\n",
       "      <th>16</th>\n",
       "      <td>272</td>\n",
       "      <td>Good Will Hunting (1997)</td>\n",
       "      <td>4.262626</td>\n",
       "    </tr>\n",
       "    <tr>\n",
       "      <th>17</th>\n",
       "      <td>657</td>\n",
       "      <td>Manchurian Candidate, The (1962)</td>\n",
       "      <td>4.259542</td>\n",
       "    </tr>\n",
       "    <tr>\n",
       "      <th>18</th>\n",
       "      <td>474</td>\n",
       "      <td>Dr. Strangelove or: How I Learned to Stop Worr...</td>\n",
       "      <td>4.252577</td>\n",
       "    </tr>\n",
       "    <tr>\n",
       "      <th>19</th>\n",
       "      <td>174</td>\n",
       "      <td>Raiders of the Lost Ark (1981)</td>\n",
       "      <td>4.252381</td>\n",
       "    </tr>\n",
       "    <tr>\n",
       "      <th>20</th>\n",
       "      <td>479</td>\n",
       "      <td>Vertigo (1958)</td>\n",
       "      <td>4.251397</td>\n",
       "    </tr>\n",
       "    <tr>\n",
       "      <th>21</th>\n",
       "      <td>313</td>\n",
       "      <td>Titanic (1997)</td>\n",
       "      <td>4.245714</td>\n",
       "    </tr>\n",
       "    <tr>\n",
       "      <th>22</th>\n",
       "      <td>511</td>\n",
       "      <td>Lawrence of Arabia (1962)</td>\n",
       "      <td>4.231214</td>\n",
       "    </tr>\n",
       "    <tr>\n",
       "      <th>23</th>\n",
       "      <td>484</td>\n",
       "      <td>Maltese Falcon, The (1941)</td>\n",
       "      <td>4.210145</td>\n",
       "    </tr>\n",
       "    <tr>\n",
       "      <th>24</th>\n",
       "      <td>172</td>\n",
       "      <td>Empire Strikes Back, The (1980)</td>\n",
       "      <td>4.204360</td>\n",
       "    </tr>\n",
       "  </tbody>\n",
       "</table>\n",
       "</div>"
      ],
      "text/plain": [
       "    movie id                                        movie title    rating\n",
       "0        408                              Close Shave, A (1995)  4.491071\n",
       "1        318                            Schindler's List (1993)  4.466443\n",
       "2        169                         Wrong Trousers, The (1993)  4.466102\n",
       "3        483                                  Casablanca (1942)  4.456790\n",
       "4         64                   Shawshank Redemption, The (1994)  4.445230\n",
       "5        603                                 Rear Window (1954)  4.387560\n",
       "6         12                         Usual Suspects, The (1995)  4.385768\n",
       "7         50                                   Star Wars (1977)  4.358491\n",
       "8        178                                12 Angry Men (1957)  4.344000\n",
       "9        134                                Citizen Kane (1941)  4.292929\n",
       "10       427                       To Kill a Mockingbird (1962)  4.292237\n",
       "11       357             One Flew Over the Cuckoo's Nest (1975)  4.291667\n",
       "12        98                   Silence of the Lambs, The (1991)  4.289744\n",
       "13       480                          North by Northwest (1959)  4.284916\n",
       "14       127                              Godfather, The (1972)  4.283293\n",
       "15       285                              Secrets & Lies (1996)  4.265432\n",
       "16       272                           Good Will Hunting (1997)  4.262626\n",
       "17       657                   Manchurian Candidate, The (1962)  4.259542\n",
       "18       474  Dr. Strangelove or: How I Learned to Stop Worr...  4.252577\n",
       "19       174                     Raiders of the Lost Ark (1981)  4.252381\n",
       "20       479                                     Vertigo (1958)  4.251397\n",
       "21       313                                     Titanic (1997)  4.245714\n",
       "22       511                          Lawrence of Arabia (1962)  4.231214\n",
       "23       484                         Maltese Falcon, The (1941)  4.210145\n",
       "24       172                    Empire Strikes Back, The (1980)  4.204360"
      ]
     },
     "execution_count": 66,
     "metadata": {},
     "output_type": "execute_result"
    }
   ],
   "source": [
    "pd.merge(item[['movie id', 'movie title']],ratings['rating'].iloc[:25], on = 'movie id',how = 'right')"
   ]
  },
  {
   "cell_type": "markdown",
   "id": "5a738e0f",
   "metadata": {},
   "source": [
    "Verify the following statements (no need of doing a statistical test. Compare absolute numbers):\n",
    "\n",
    "* Men watch more drama than women\n",
    "* Men watch more Romance than women\n",
    "* Women watch more Sci-Fi than men"
   ]
  },
  {
   "cell_type": "code",
   "execution_count": 90,
   "id": "2ab33ad5",
   "metadata": {},
   "outputs": [],
   "source": [
    "new_data = pd.merge(data, item, on = 'movie id')\n",
    "new_data = pd.merge(new_data, user, on = 'user id')\n"
   ]
  },
  {
   "cell_type": "code",
   "execution_count": 116,
   "id": "fd816c91",
   "metadata": {},
   "outputs": [
    {
     "name": "stderr",
     "output_type": "stream",
     "text": [
      "C:\\Users\\KARTHI~1\\AppData\\Local\\Temp/ipykernel_21640/668880589.py:1: FutureWarning: The default value of numeric_only in DataFrameGroupBy.sum is deprecated. In a future version, numeric_only will default to False. Either specify numeric_only or select only columns which should be valid for the function.\n",
      "  group_by_genre = new_data.groupby('gender').sum().loc[:,'Action':'Western']\n"
     ]
    },
    {
     "data": {
      "text/html": [
       "<div>\n",
       "<style scoped>\n",
       "    .dataframe tbody tr th:only-of-type {\n",
       "        vertical-align: middle;\n",
       "    }\n",
       "\n",
       "    .dataframe tbody tr th {\n",
       "        vertical-align: top;\n",
       "    }\n",
       "\n",
       "    .dataframe thead th {\n",
       "        text-align: right;\n",
       "    }\n",
       "</style>\n",
       "<table border=\"1\" class=\"dataframe\">\n",
       "  <thead>\n",
       "    <tr style=\"text-align: right;\">\n",
       "      <th></th>\n",
       "      <th>Action</th>\n",
       "      <th>Adventure</th>\n",
       "      <th>Animation</th>\n",
       "      <th>Children's</th>\n",
       "      <th>Comedy</th>\n",
       "      <th>Crime</th>\n",
       "      <th>Documentary</th>\n",
       "      <th>Drama</th>\n",
       "      <th>Fantasy</th>\n",
       "      <th>Film-Noir</th>\n",
       "      <th>Horror</th>\n",
       "      <th>Musical</th>\n",
       "      <th>Mystery</th>\n",
       "      <th>Romance</th>\n",
       "      <th>Sci-Fi</th>\n",
       "      <th>Thriller</th>\n",
       "      <th>War</th>\n",
       "      <th>Western</th>\n",
       "    </tr>\n",
       "    <tr>\n",
       "      <th>gender</th>\n",
       "      <th></th>\n",
       "      <th></th>\n",
       "      <th></th>\n",
       "      <th></th>\n",
       "      <th></th>\n",
       "      <th></th>\n",
       "      <th></th>\n",
       "      <th></th>\n",
       "      <th></th>\n",
       "      <th></th>\n",
       "      <th></th>\n",
       "      <th></th>\n",
       "      <th></th>\n",
       "      <th></th>\n",
       "      <th></th>\n",
       "      <th></th>\n",
       "      <th></th>\n",
       "      <th></th>\n",
       "    </tr>\n",
       "  </thead>\n",
       "  <tbody>\n",
       "    <tr>\n",
       "      <th>F</th>\n",
       "      <td>5442</td>\n",
       "      <td>3141</td>\n",
       "      <td>995</td>\n",
       "      <td>2232</td>\n",
       "      <td>8068</td>\n",
       "      <td>1794</td>\n",
       "      <td>187</td>\n",
       "      <td>11008</td>\n",
       "      <td>363</td>\n",
       "      <td>385</td>\n",
       "      <td>1197</td>\n",
       "      <td>1442</td>\n",
       "      <td>1314</td>\n",
       "      <td>5858</td>\n",
       "      <td>2629</td>\n",
       "      <td>5086</td>\n",
       "      <td>2189</td>\n",
       "      <td>371</td>\n",
       "    </tr>\n",
       "    <tr>\n",
       "      <th>M</th>\n",
       "      <td>20147</td>\n",
       "      <td>10612</td>\n",
       "      <td>2610</td>\n",
       "      <td>4950</td>\n",
       "      <td>21764</td>\n",
       "      <td>6261</td>\n",
       "      <td>571</td>\n",
       "      <td>28887</td>\n",
       "      <td>989</td>\n",
       "      <td>1348</td>\n",
       "      <td>4120</td>\n",
       "      <td>3512</td>\n",
       "      <td>3931</td>\n",
       "      <td>13603</td>\n",
       "      <td>10101</td>\n",
       "      <td>16786</td>\n",
       "      <td>7209</td>\n",
       "      <td>1483</td>\n",
       "    </tr>\n",
       "  </tbody>\n",
       "</table>\n",
       "</div>"
      ],
      "text/plain": [
       "        Action  Adventure  Animation  Children's  Comedy  Crime  Documentary  \\\n",
       "gender                                                                         \n",
       "F         5442       3141        995        2232    8068   1794          187   \n",
       "M        20147      10612       2610        4950   21764   6261          571   \n",
       "\n",
       "        Drama  Fantasy  Film-Noir  Horror  Musical  Mystery  Romance  Sci-Fi  \\\n",
       "gender                                                                         \n",
       "F       11008      363        385    1197     1442     1314     5858    2629   \n",
       "M       28887      989       1348    4120     3512     3931    13603   10101   \n",
       "\n",
       "        Thriller   War  Western  \n",
       "gender                           \n",
       "F           5086  2189      371  \n",
       "M          16786  7209     1483  "
      ]
     },
     "execution_count": 116,
     "metadata": {},
     "output_type": "execute_result"
    }
   ],
   "source": [
    "group_by_genre = new_data.groupby('gender').sum().loc[:,'Action':'Western']\n",
    "group_by_genre"
   ]
  },
  {
   "cell_type": "code",
   "execution_count": 120,
   "id": "3bf57ea5",
   "metadata": {},
   "outputs": [
    {
     "data": {
      "text/html": [
       "<div>\n",
       "<style scoped>\n",
       "    .dataframe tbody tr th:only-of-type {\n",
       "        vertical-align: middle;\n",
       "    }\n",
       "\n",
       "    .dataframe tbody tr th {\n",
       "        vertical-align: top;\n",
       "    }\n",
       "\n",
       "    .dataframe thead th {\n",
       "        text-align: right;\n",
       "    }\n",
       "</style>\n",
       "<table border=\"1\" class=\"dataframe\">\n",
       "  <thead>\n",
       "    <tr style=\"text-align: right;\">\n",
       "      <th></th>\n",
       "      <th>Action</th>\n",
       "      <th>Adventure</th>\n",
       "      <th>Animation</th>\n",
       "      <th>Children's</th>\n",
       "      <th>Comedy</th>\n",
       "      <th>Crime</th>\n",
       "      <th>Documentary</th>\n",
       "      <th>Drama</th>\n",
       "      <th>Fantasy</th>\n",
       "      <th>Film-Noir</th>\n",
       "      <th>Horror</th>\n",
       "      <th>Musical</th>\n",
       "      <th>Mystery</th>\n",
       "      <th>Romance</th>\n",
       "      <th>Sci-Fi</th>\n",
       "      <th>Thriller</th>\n",
       "      <th>War</th>\n",
       "      <th>Western</th>\n",
       "      <th>total</th>\n",
       "    </tr>\n",
       "    <tr>\n",
       "      <th>gender</th>\n",
       "      <th></th>\n",
       "      <th></th>\n",
       "      <th></th>\n",
       "      <th></th>\n",
       "      <th></th>\n",
       "      <th></th>\n",
       "      <th></th>\n",
       "      <th></th>\n",
       "      <th></th>\n",
       "      <th></th>\n",
       "      <th></th>\n",
       "      <th></th>\n",
       "      <th></th>\n",
       "      <th></th>\n",
       "      <th></th>\n",
       "      <th></th>\n",
       "      <th></th>\n",
       "      <th></th>\n",
       "      <th></th>\n",
       "    </tr>\n",
       "  </thead>\n",
       "  <tbody>\n",
       "    <tr>\n",
       "      <th>F</th>\n",
       "      <td>5442</td>\n",
       "      <td>3141</td>\n",
       "      <td>995</td>\n",
       "      <td>2232</td>\n",
       "      <td>8068</td>\n",
       "      <td>1794</td>\n",
       "      <td>187</td>\n",
       "      <td>11008</td>\n",
       "      <td>363</td>\n",
       "      <td>385</td>\n",
       "      <td>1197</td>\n",
       "      <td>1442</td>\n",
       "      <td>1314</td>\n",
       "      <td>5858</td>\n",
       "      <td>2629</td>\n",
       "      <td>5086</td>\n",
       "      <td>2189</td>\n",
       "      <td>371</td>\n",
       "      <td>53701.0</td>\n",
       "    </tr>\n",
       "    <tr>\n",
       "      <th>M</th>\n",
       "      <td>20147</td>\n",
       "      <td>10612</td>\n",
       "      <td>2610</td>\n",
       "      <td>4950</td>\n",
       "      <td>21764</td>\n",
       "      <td>6261</td>\n",
       "      <td>571</td>\n",
       "      <td>28887</td>\n",
       "      <td>989</td>\n",
       "      <td>1348</td>\n",
       "      <td>4120</td>\n",
       "      <td>3512</td>\n",
       "      <td>3931</td>\n",
       "      <td>13603</td>\n",
       "      <td>10101</td>\n",
       "      <td>16786</td>\n",
       "      <td>7209</td>\n",
       "      <td>1483</td>\n",
       "      <td>158884.0</td>\n",
       "    </tr>\n",
       "  </tbody>\n",
       "</table>\n",
       "</div>"
      ],
      "text/plain": [
       "        Action  Adventure  Animation  Children's  Comedy  Crime  Documentary  \\\n",
       "gender                                                                         \n",
       "F         5442       3141        995        2232    8068   1794          187   \n",
       "M        20147      10612       2610        4950   21764   6261          571   \n",
       "\n",
       "        Drama  Fantasy  Film-Noir  Horror  Musical  Mystery  Romance  Sci-Fi  \\\n",
       "gender                                                                         \n",
       "F       11008      363        385    1197     1442     1314     5858    2629   \n",
       "M       28887      989       1348    4120     3512     3931    13603   10101   \n",
       "\n",
       "        Thriller   War  Western     total  \n",
       "gender                                     \n",
       "F           5086  2189      371   53701.0  \n",
       "M          16786  7209     1483  158884.0  "
      ]
     },
     "execution_count": 120,
     "metadata": {},
     "output_type": "execute_result"
    }
   ],
   "source": [
    "group_by_genre['total'] = group_by_genre.sum(axis=1)\n",
    "group_by_genre"
   ]
  },
  {
   "cell_type": "code",
   "execution_count": 121,
   "id": "b56d3850",
   "metadata": {},
   "outputs": [
    {
     "data": {
      "text/plain": [
       "gender\n",
       "F    20.498687\n",
       "M    18.181189\n",
       "dtype: float64"
      ]
     },
     "execution_count": 121,
     "metadata": {},
     "output_type": "execute_result"
    }
   ],
   "source": [
    "(group_by_genre['Drama'] * 100)/ group_by_genre['total']"
   ]
  },
  {
   "cell_type": "code",
   "execution_count": 122,
   "id": "9dc57231",
   "metadata": {},
   "outputs": [
    {
     "data": {
      "text/plain": [
       "gender\n",
       "F    10.908549\n",
       "M     8.561592\n",
       "dtype: float64"
      ]
     },
     "execution_count": 122,
     "metadata": {},
     "output_type": "execute_result"
    }
   ],
   "source": [
    "(group_by_genre['Romance'] * 100)/ group_by_genre['total']"
   ]
  },
  {
   "cell_type": "code",
   "execution_count": 123,
   "id": "7ead7f1d",
   "metadata": {},
   "outputs": [
    {
     "data": {
      "text/plain": [
       "gender\n",
       "F    4.895626\n",
       "M    6.357468\n",
       "dtype: float64"
      ]
     },
     "execution_count": 123,
     "metadata": {},
     "output_type": "execute_result"
    }
   ],
   "source": [
    "(group_by_genre['Sci-Fi'] * 100)/ group_by_genre['total']"
   ]
  },
  {
   "cell_type": "markdown",
   "id": "11040f49",
   "metadata": {},
   "source": [
    "###### OBSERVATIONS\n",
    " \n",
    "* Men watch more drama than women --> False\n",
    "* Men watch more Romance than women -> False\n",
    "* Women watch more Sci-Fi than men -> False"
   ]
  },
  {
   "cell_type": "code",
   "execution_count": null,
   "id": "551165ff",
   "metadata": {},
   "outputs": [],
   "source": []
  }
 ],
 "metadata": {
  "kernelspec": {
   "display_name": "Python 3 (ipykernel)",
   "language": "python",
   "name": "python3"
  },
  "language_info": {
   "codemirror_mode": {
    "name": "ipython",
    "version": 3
   },
   "file_extension": ".py",
   "mimetype": "text/x-python",
   "name": "python",
   "nbconvert_exporter": "python",
   "pygments_lexer": "ipython3",
   "version": "3.9.7"
  }
 },
 "nbformat": 4,
 "nbformat_minor": 5
}
